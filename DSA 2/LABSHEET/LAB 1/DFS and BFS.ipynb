{
 "cells": [
  {
   "cell_type": "code",
   "execution_count": 1,
   "metadata": {},
   "outputs": [
    {
     "name": "stdout",
     "output_type": "stream",
     "text": [
      "['A', 'B', 'D', 'E', 'C', 'F', 'G']\n"
     ]
    }
   ],
   "source": [
    "visited = []\n",
    "N = [\"A\",\"B\",\"C\",\"D\",\"E\",\"F\",\"G\"]\n",
    "Q = []\n",
    "Graph = [\n",
    "    [0,1,0,1,1,0,0],\n",
    "    [1,0,1,0,1,0,0],\n",
    "    [0,1,0,0,1,1,1],\n",
    "    [1,0,0,0,1,0,0],\n",
    "    [1,1,1,1,0,1,0],\n",
    "    [0,0,1,0,1,0,1],\n",
    "    [0,0,1,0,0,1,0]\n",
    "]\n",
    "\n",
    "def Dequeue(Q):\n",
    "    Q=Q[1:]\n",
    "    return Q\n",
    "\n",
    "def BFS_Search(Q):\n",
    "    for v in N:\n",
    "        if v not in visited:\n",
    "            BFS(Q,v)\n",
    "\n",
    "def BFS(Q,v):\n",
    "    visited.append(v)\n",
    "    Q.append(v)\n",
    "\n",
    "    while len(Q) != 0:\n",
    "        u = Q[0]\n",
    "        Q = Dequeue(Q)\n",
    "        pos = 0\n",
    "        adj = Graph[N.index(u)]\n",
    "        for i in adj:\n",
    "            if i:\n",
    "                w = N[pos]\n",
    "                if w not in visited:\n",
    "                    visited.append(w)\n",
    "                    if w not in Q:\n",
    "                        Q.append(w)\n",
    "\n",
    "            pos+=1\n",
    "\n",
    "BFS_Search(Q)\n",
    "print(visited)"
   ]
  },
  {
   "cell_type": "code",
   "execution_count": 2,
   "metadata": {},
   "outputs": [
    {
     "name": "stdout",
     "output_type": "stream",
     "text": [
      "['A', 'B', 'C', 'E', 'D', 'F', 'G']\n"
     ]
    }
   ],
   "source": [
    "# DFS with stack solution\n",
    "visited = []\n",
    "N = [\"A\",\"B\",\"C\",\"D\",\"E\",\"F\",\"G\"]\n",
    "stack= []\n",
    "Graph = [\n",
    "    [0,1,0,1,1,0,0],\n",
    "    [1,0,1,0,1,0,0],\n",
    "    [0,1,0,0,1,1,1],\n",
    "    [1,0,0,0,1,0,0],\n",
    "    [1,1,1,1,0,1,0],\n",
    "    [0,0,1,0,1,0,1],\n",
    "    [0,0,1,0,0,1,0]\n",
    "]\n",
    "\n",
    "def Pop(stack):\n",
    "    stack=stack[1:]\n",
    "    return stack\n",
    "\n",
    "def DFS_Search(stack):\n",
    "    for v in N:\n",
    "        if v not in visited:\n",
    "            DFS(stack,v)\n",
    "\n",
    "def DFS(stack,v):\n",
    "    visited.append(v)\n",
    "    stack.append(v)\n",
    "    pos = 0\n",
    "    adj = Graph[N.index(v)]\n",
    "    for i in adj:\n",
    "        if i:\n",
    "            w = N[pos]\n",
    "            if w not in visited:\n",
    "                DFS(stack,w)\n",
    "        pos+=1\n",
    "    stack = Pop(stack)\n",
    "\n",
    "DFS_Search(stack)\n",
    "print(visited)"
   ]
  },
  {
   "cell_type": "code",
   "execution_count": 3,
   "metadata": {},
   "outputs": [
    {
     "name": "stdout",
     "output_type": "stream",
     "text": [
      "['A', 'B', 'C', 'E', 'D', 'F', 'G']\n"
     ]
    }
   ],
   "source": [
    "# DFS with recursion\n",
    "visited = []\n",
    "N = [\"A\",\"B\",\"C\",\"D\",\"E\",\"F\",\"G\"]\n",
    "Graph = [\n",
    "    [0,1,0,1,1,0,0],\n",
    "    [1,0,1,0,1,0,0],\n",
    "    [0,1,0,0,1,1,1],\n",
    "    [1,0,0,0,1,0,0],\n",
    "    [1,1,1,1,0,1,0],\n",
    "    [0,0,1,0,1,0,1],\n",
    "    [0,0,1,0,0,1,0]\n",
    "]\n",
    "\n",
    "def DFS_Search():\n",
    "    for v in N:\n",
    "        if v not in visited:\n",
    "            DFS(v)\n",
    "\n",
    "def DFS(v):\n",
    "    visited.append(v)\n",
    "    pos = 0\n",
    "    adj = Graph[N.index(v)]\n",
    "    for i in adj:\n",
    "        if i:\n",
    "            w = N[pos]\n",
    "            if w not in visited:\n",
    "                DFS(w)\n",
    "        pos+=1\n",
    "\n",
    "DFS_Search()\n",
    "print(visited)"
   ]
  },
  {
   "cell_type": "code",
   "execution_count": null,
   "metadata": {},
   "outputs": [],
   "source": []
  }
 ],
 "metadata": {
  "interpreter": {
   "hash": "b89b5cfaba6639976dc87ff2fec6d58faec662063367e2c229c520fe71072417"
  },
  "kernelspec": {
   "display_name": "Python 3.10.3 64-bit",
   "language": "python",
   "name": "python3"
  },
  "language_info": {
   "codemirror_mode": {
    "name": "ipython",
    "version": 3
   },
   "file_extension": ".py",
   "mimetype": "text/x-python",
   "name": "python",
   "nbconvert_exporter": "python",
   "pygments_lexer": "ipython3",
   "version": "3.11.2"
  },
  "orig_nbformat": 4
 },
 "nbformat": 4,
 "nbformat_minor": 2
}
