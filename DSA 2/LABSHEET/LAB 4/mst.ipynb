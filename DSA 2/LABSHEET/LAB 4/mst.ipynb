{
 "cells": [
  {
   "cell_type": "code",
   "execution_count": 4,
   "metadata": {},
   "outputs": [],
   "source": [
    "graph = {\n",
    "     'A': [('B', 5), ('D', 2)],\n",
    "     'B': [('A', 5), ('C', 4), ('D', 3), ('E', 5), ('F', 6)],\n",
    "     'C': [('B', 4), ('F', 3)],\n",
    "     'D': [('A', 2), ('B', 3), ('E', 7), ('G', 6)],\n",
    "     'E': [('B', 5), ('D', 7), ('F', 1), ('H', 3)],\n",
    "     'F': [('B', 6), ('C', 3), ('E', 1), ('H', 4), ('I', 4)],\n",
    "     'G': [('D', 6), ('H', 4)],\n",
    "     'H': [('D', 8), ('E', 3), ('F', 4), ('G', 4), ('I', 2)],\n",
    "     'I': [('F', 4), ('H', 2)]\n",
    "}"
   ]
  },
  {
   "cell_type": "code",
   "execution_count": 5,
   "metadata": {},
   "outputs": [
    {
     "name": "stdout",
     "output_type": "stream",
     "text": [
      "Prim's MST Cost: 22\n",
      "Prim's MST Path: {('A', 0), ('I', 2), ('D', 2), ('H', 3), ('E', 1), ('C', 4), ('B', 3), ('G', 4), ('F', 3)}\n"
     ]
    }
   ],
   "source": [
    "def prim(graph):\n",
    "    mst = set()\n",
    "    visited = set()\n",
    "    start = list(graph.keys())[0]\n",
    "    priorityQueue = [(0, start)]\n",
    "    totalCost = 0\n",
    "\n",
    "    while priorityQueue:\n",
    "        cost, current = priorityQueue.pop(0)\n",
    "\n",
    "        if current not in visited:\n",
    "            visited.add(current)\n",
    "            mst.add((current, cost))\n",
    "            totalCost += cost\n",
    "\n",
    "            for neighbor, edgeCost in graph[current]:\n",
    "                if neighbor not in visited:\n",
    "                    priorityQueue.append((edgeCost, neighbor))\n",
    "                    priorityQueue.sort()\n",
    "\n",
    "    return totalCost, mst\n",
    "\n",
    "prim_cost, prim_path = prim(graph)\n",
    "print(\"Prim's MST Cost:\", prim_cost)\n",
    "print(\"Prim's MST Path:\", prim_path)"
   ]
  },
  {
   "cell_type": "code",
   "execution_count": 7,
   "metadata": {},
   "outputs": [
    {
     "name": "stdout",
     "output_type": "stream",
     "text": [
      "Kruskal's MST Cost: 22\n",
      "Kruskal's MST Path: {('C', 'F', 3), ('B', 'D', 3), ('G', 'H', 4), ('A', 'D', 2), ('E', 'F', 1), ('E', 'H', 3), ('B', 'C', 4), ('H', 'I', 2)}\n"
     ]
    }
   ],
   "source": [
    "def kruskal(graph):\n",
    "    edges = []\n",
    "    for node in graph:\n",
    "        for neighbor, cost in graph[node]:\n",
    "            edges.append((cost, node, neighbor))\n",
    "    edges.sort()\n",
    "    mst = set()\n",
    "    total_cost = 0\n",
    "    parent = {}\n",
    "\n",
    "    def find(node):\n",
    "        if parent[node] != node:\n",
    "            parent[node] = find(parent[node])\n",
    "        return parent[node]\n",
    "\n",
    "    def union(node1, node2):\n",
    "        root1 = find(node1)\n",
    "        root2 = find(node2)\n",
    "        parent[root1] = root2\n",
    "\n",
    "    for node in graph:\n",
    "        parent[node] = node\n",
    "\n",
    "    for edge in edges:\n",
    "        cost, node1, node2 = edge\n",
    "        if find(node1) != find(node2):\n",
    "            mst.add((node1, node2, cost))\n",
    "            total_cost += cost\n",
    "            union(node1, node2)\n",
    "\n",
    "    return total_cost, mst\n",
    "\n",
    "kruskal_cost, kruskal_path = kruskal(graph)\n",
    "print(\"Kruskal's MST Cost:\", kruskal_cost)\n",
    "print(\"Kruskal's MST Path:\", kruskal_path)\n"
   ]
  }
 ],
 "metadata": {
  "kernelspec": {
   "display_name": "Python 3",
   "language": "python",
   "name": "python3"
  },
  "language_info": {
   "codemirror_mode": {
    "name": "ipython",
    "version": 3
   },
   "file_extension": ".py",
   "mimetype": "text/x-python",
   "name": "python",
   "nbconvert_exporter": "python",
   "pygments_lexer": "ipython3",
   "version": "3.11.2"
  }
 },
 "nbformat": 4,
 "nbformat_minor": 2
}
