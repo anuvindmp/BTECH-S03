{
  "nbformat": 4,
  "nbformat_minor": 0,
  "metadata": {
    "colab": {
      "provenance": []
    },
    "kernelspec": {
      "name": "python3",
      "display_name": "Python 3"
    },
    "language_info": {
      "name": "python"
    }
  },
  "cells": [
    {
      "cell_type": "markdown",
      "source": [
        "Q1: Initialise a variable with a signal peptide sequence, change the case and print it. Also print the length of the sequence. (Hint- use string manipulation functions)"
      ],
      "metadata": {
        "id": "Zot3sZ4IdIkH"
      }
    },
    {
      "cell_type": "code",
      "execution_count": 2,
      "metadata": {
        "colab": {
          "base_uri": "https://localhost:8080/"
        },
        "id": "x62DkVeidDGZ",
        "outputId": "3c563a6d-ad20-4a20-e6ae-654ddb6e3ded"
      },
      "outputs": [
        {
          "output_type": "stream",
          "name": "stdout",
          "text": [
            "There are 15 amino acids present in the given signal peptide :MKIALRKLLLLALFL \n"
          ]
        }
      ],
      "source": [
        "signalpeptide = \"mkialrkllllalfl\"\n",
        "signalpeptide = signalpeptide.upper()\n",
        "print (\"There are %d amino acids present in the given signal peptide :%s \" %(len(signalpeptide),signalpeptide));"
      ]
    },
    {
      "cell_type": "markdown",
      "source": [
        "Q2: Check the existence of a particular amino acid in a peptide sequence"
      ],
      "metadata": {
        "id": "GEyaGokDeOT1"
      }
    },
    {
      "cell_type": "code",
      "source": [
        "peptide = \"MKKIEKLTEMANIIGG\"\n",
        "\n",
        "#K - lysine\n",
        "if('K' in peptide):\n",
        "  print(\"The amino acid lysine is present\")\n",
        "else:\n",
        "   print(\"The amino acid lysine is absent\")\n",
        "\n",
        "#R - arginine\n",
        "if('R' in peptide):\n",
        "  print(\"The amino acid arginine is present\")\n",
        "else:\n",
        "   print(\"The amino acid arginine is absent\")"
      ],
      "metadata": {
        "colab": {
          "base_uri": "https://localhost:8080/"
        },
        "id": "JL1uFNtleROn",
        "outputId": "05e7b558-5237-4e85-9075-9bb2f8fbef64"
      },
      "execution_count": 4,
      "outputs": [
        {
          "output_type": "stream",
          "name": "stdout",
          "text": [
            "The amino acid lysine is present\n",
            "The amino acid arginine is absent\n"
          ]
        }
      ]
    },
    {
      "cell_type": "markdown",
      "source": [
        "Q3:  Count the number of Nucleotides in a DNA Sequence (Human Insulin)\n",
        "\n",
        "> *   Using a for loop\n",
        "> * Using a while loop\n",
        "> * Using python library function"
      ],
      "metadata": {
        "id": "bfMxuGK4e1AH"
      }
    },
    {
      "cell_type": "code",
      "source": [
        "#dna sequence of insulin gene\n",
        "import re;\n",
        "dna = \"\"\"AGCCCTCCAGGACAGGCTGCATCAGAAGAGGCCATCAAGCAGGTCTGTTCCAAGGGCCTTTGCGTCAGGT\n",
        "GGGCTCAGGATTCCAGGGTGGCTGGACCCCAGGCCCCAGCTCTGCAGCAGGGAGGACGTGGCTGGGCTCG\n",
        "TGAAGCATGTGGGGGTGAGCCCAGGGGCCCCAAGGCAGGGCACCTGGCCTTCAGCCTGCCTCAGCCCTGC\n",
        "CTGTCTCCCAGATCACTGTCCTTCTGCCATGGCCCTGTGGATGCGCCTCCTGCCCCTGCTGGCGCTGCTG\n",
        "GCCCTCTGGGGACCTGACCCAGCCGCAGCCTTTGTGAACCAACACCTGTGCGGCTCACACCTGGTGGAAG\n",
        "CTCTCTACCTAGTGTGCGGGGAACGAGGCTTCTTCTACACACCCAAGACCCGCCGGGAGGCAGAGGACCT\n",
        "GCAGGGTGAGCCAACTGCCCATTGCTGCCCCTGGCCGCCCCCAGCCACCCCCTGCTCCTGGCGCTCCCAC\n",
        "CCAGCATGGGCAGAAGGGGGCAGGAGGCTGCCACCCAGCAGGGGGTCAGGTGCACTTTTTTAAAAAGAAG\n",
        "TTCTCTTGGTCACGTCCTAAAAGTGACCAGCTCCCTGTGGCCCAGTCAGAATCTCAGCCTGAGGACGGTG\n",
        "TTGGCTTCGGCAGCCCCGAGATACATCAGAGGGTGGGCACGCTCCTCCCTCCACTCGCCCCTCAAACAAA\n",
        "TGCCCCGCAGCCCATTTCTCCACCCTCATTTGATGACCGCAGATTCAAGTGTTTTGTTAAGTAAAGTCCT\n",
        "GGGTGACCTGGGGTCACAGGGTGCCCCACGCTGCCTGCCTCTGGGCGAACACCCCATCACGCCCGGAGGA\n",
        "GGGCGTGGCTGCCTGCCTGAGTGGGCCAGACCCCTGTCGCCAGGCCTCACGGCAGCTCCATAGTCAGGAG\n",
        "ATGGGGAAGATGCTGGGGACAGGCCCTGGGGAGAAGTACTGGGATCACCTGTTCAGGCTCCCACTGTGAC\n",
        "GCTGCCCCGGGGCGGGGGAAGGAGGTGGGACATGTGGGCGTTGGGGCCTGTAGGTCCACACCCAGTGTGG\n",
        "GTGACCCTCCCTCTAACCTGGGTCCAGCCCGGCTGGAGATGGGTGGGAGTGCGACCTAGGGCTGGCGGGC\n",
        "AGGCGGGCACTGTGTCTCCCTGACTGTGTCCTCCTGTGTCCCTCTGCCTCGCCGCTGTTCCGGAACCTGC\n",
        "TCTGCGCGGCACGTCCTGGCAGTGGGGCAGGTGGAGCTGGGCGGGGGCCCTGGTGCAGGCAGCCTGCAGC\n",
        "CCTTGGCCCTGGAGGGGTCCCTGCAGAAGCGTGGCATTGTGGAACAATGCTGTACCAGCATCTGCTCCCT\n",
        "CTACCAGCTGGAGAACTACTGCAACTAGACGCAGCCCGCAGGCAGCCCCACACCCGCCGCCTCCTGCACC\n",
        "GAGAGAGATGGAATAAAGCCCTTGAACCAGC\"\"\"\n",
        "dna = re.sub('\\s','',dna);"
      ],
      "metadata": {
        "id": "yRLn401xe8n-"
      },
      "execution_count": 38,
      "outputs": []
    },
    {
      "cell_type": "code",
      "source": [
        "# for loop\n",
        "\n",
        "dna = dna.upper()\n",
        "A=T=G=C=0\n",
        "\n",
        "for i in range (len(dna)):\n",
        "  if dna[i] == 'A':\n",
        "    A+=1\n",
        "  if dna[i] == 'T':\n",
        "    T+=1\n",
        "  if dna[i] == 'G':\n",
        "    G+=1\n",
        "  if dna[i] == 'C':\n",
        "    C+=1\n",
        "\n",
        "print(\"Number of bases: A : \", A)\n",
        "print(\"Number of bases: T : \", T)\n",
        "print(\"Number of bases: G : \", G)\n",
        "print(\"Number of bases: C : \", C)"
      ],
      "metadata": {
        "colab": {
          "base_uri": "https://localhost:8080/"
        },
        "id": "6TuAoP4A4J1-",
        "outputId": "1022b0a6-1150-4f78-d742-d74f191dff2a"
      },
      "execution_count": 6,
      "outputs": [
        {
          "output_type": "stream",
          "name": "stdout",
          "text": [
            "Number of bases: A :  247\n",
            "Number of bases: T :  259\n",
            "Number of bases: G :  456\n",
            "Number of bases: C :  469\n"
          ]
        }
      ]
    },
    {
      "cell_type": "code",
      "source": [
        "# while loop\n",
        "\n",
        "dna = dna.upper()\n",
        "A=T=G=C=0\n",
        "i=0\n",
        "while i < len(dna):\n",
        "    if dna[i] == 'A':\n",
        "      A+=1\n",
        "    if dna[i] == 'T':\n",
        "      T+=1\n",
        "    if dna[i] == 'G':\n",
        "      G+=1\n",
        "    if dna[i] == 'C':\n",
        "      C+=1\n",
        "    i+=1\n",
        "\n",
        "print(\"Number of bases: A : \", A)\n",
        "print(\"Number of bases: T : \", T)\n",
        "print(\"Number of bases: G : \", G)\n",
        "print(\"Number of bases: C : \", C)"
      ],
      "metadata": {
        "colab": {
          "base_uri": "https://localhost:8080/"
        },
        "id": "V2AwleOq5N0w",
        "outputId": "f5591ce2-68bc-458b-ebb2-6d95eeec3aba"
      },
      "execution_count": 8,
      "outputs": [
        {
          "output_type": "stream",
          "name": "stdout",
          "text": [
            "Number of bases: A :  247\n",
            "Number of bases: T :  259\n",
            "Number of bases: G :  456\n",
            "Number of bases: C :  469\n"
          ]
        }
      ]
    },
    {
      "cell_type": "code",
      "source": [
        "# library function\n",
        "\n",
        "dna = dna.upper()\n",
        "total = len(dna)\n",
        "A = dna.count('A')\n",
        "T = dna.count('T')\n",
        "G = dna.count('G')\n",
        "C = dna.count('C')\n",
        "\n",
        "print(f\"total {total} nucleotides\")\n",
        "print(\"Frequency of nucleotides are :\\n\")\n",
        "print(\"Nucleotide | Count\\n------------------\")\n",
        "print(f\"    A      | {A}\\n    T      | {T}\\n    G      | {G}\\n    C      | {C}\")"
      ],
      "metadata": {
        "colab": {
          "base_uri": "https://localhost:8080/"
        },
        "id": "NKaQWnub59_8",
        "outputId": "a13349fd-b942-4636-8019-a0dbdaa4c591"
      },
      "execution_count": 19,
      "outputs": [
        {
          "output_type": "stream",
          "name": "stdout",
          "text": [
            "total 1431 nucleotides\n",
            "Frequency of nucleotides are :\n",
            "\n",
            "Nucleotide | Count\n",
            "------------------\n",
            "    A      | 247\n",
            "    T      | 259\n",
            "    G      | 456\n",
            "    C      | 469\n"
          ]
        }
      ]
    },
    {
      "cell_type": "markdown",
      "source": [
        "Q4: Calculate the 'GC Content' of a DNA Sequence"
      ],
      "metadata": {
        "id": "9OCUjY-q8TBU"
      }
    },
    {
      "cell_type": "code",
      "source": [
        "G = dna.count('G')\n",
        "C = dna.count('C')\n",
        "total = len(dna)\n",
        "\n",
        "print(f\"total nucleotides present : {total}\")\n",
        "gc_content = ((G+C)/total)*100\n",
        "print(f\"GC content in percentage : {gc_content}\")"
      ],
      "metadata": {
        "colab": {
          "base_uri": "https://localhost:8080/"
        },
        "id": "m0P65Ccc8nWY",
        "outputId": "0b6b0f38-baa1-4589-b27a-f680d27c802d"
      },
      "execution_count": 20,
      "outputs": [
        {
          "output_type": "stream",
          "name": "stdout",
          "text": [
            "total nucleotides present : 1431\n",
            "GC content in percentage : 64.64011180992313\n"
          ]
        }
      ]
    },
    {
      "cell_type": "markdown",
      "source": [
        "Q5: Check the existence of a 'TATA Box' in a DNA sequence"
      ],
      "metadata": {
        "id": "_B5F3_cT9i5q"
      }
    },
    {
      "cell_type": "code",
      "source": [
        "import re\n",
        "pattern = \"TATA[AT]A[AT]\"\n",
        "dna_sequence = \"TAGACGTTATAAAATGCCCTCAGATAGCCG\"\n",
        "match_object = re.search(pattern, dna_sequence)\n",
        "if match_object:\n",
        "    print(\"The TATA Box is present at position:\", match_object.start())\n",
        "else:\n",
        "    print(\"The TATA Box is not found in the given DNA sequence.\")\n"
      ],
      "metadata": {
        "colab": {
          "base_uri": "https://localhost:8080/"
        },
        "id": "HcPmlswS9mzw",
        "outputId": "0bc81be7-ad74-4939-86d1-6b642d3a2ef7"
      },
      "execution_count": 22,
      "outputs": [
        {
          "output_type": "stream",
          "name": "stdout",
          "text": [
            "The TATA Box is present at position: 7\n"
          ]
        }
      ]
    },
    {
      "cell_type": "markdown",
      "source": [
        " Q6: Problem : Find the Reverse Complement of a DNA String"
      ],
      "metadata": {
        "id": "vRL4vUdP-0Hb"
      }
    },
    {
      "cell_type": "code",
      "source": [
        "dna = \"ATGCGTACCGTCAGATCGATCGATCGATCGTAGCTAGCATCGATCGATCGATCGATCGATCGATCGATCGATCGATCGTAGCTAGCATCGATCGATCGATCGATCGATCGATCGATCGTAGCTAGCATCGATCGATCGATCGATCGATCGATCGATCGATCGTAGCTAGCATCGATCGATCGATCGATCGATCGATCGATCGATCGATCGTAGCTAGCATCGATCGATCGATCGATCGATCGATCGATCGTAGCTAGCATCGATCGATCGATCGATCGATCGATCGATCGATCGATCGTAGCTAGCATCGATCGATCGATCGATCGATCGATCGATCGTAGCTAGCATCGATCGATCGATCGATCGATCGATCGATCGATCGTAGCTAGCATCGATCGATCGATCGATCGATCGATCGATCGATCGTAGCTAGCATCGATCGATCGATCGATCGATCGATCGATCGATCGTAGCTAGCATCGATCGATCGATCGATCGATCGATCGATCGATCGATCGATCGATCGATCGATCGATCGATCGATCGATCGATCGATCGATCGATCGATCGATCGATCGATCGATCGATCGATCGATCGATCGATCGATCGATCGATCGATCGATCGATCGATCGATCGATCGATCGATCGATCGATCGATCGATCGATCGATCGATCGATCGATCGATCGATCGATCGATCGATCGATCGATCGATCGATCGATCGATCGATCGATCGATCGATCGATCGATCGATCGATCGATCGATCGATCGATCGATCGATCGATCGATCGATCGATCGATCGATCGATCGATCGATCGATCGATCGATCGATCGATCGATCGATCGATCGATCGATCGATCGATCGATCGATCGATCGATCGATCGATCGATCGATCGATCGATCGATCGATCGATCGATCGATCGATCGATCGATCGATCGATCGATCGATCGATCGATCGATCGATCGATCGATCGATCGATCGATCGATCGATCGATCGATCGATCGATCGATCGATCGATCGATCGATCGATCGATCGATCGATCGATCGATCGATCGATCGATCGATCGATCGATCGATCGATCGATCGATCGATCGATCGATCGATCGATCGATCGATCGATCGATCGATCGATCGATCGATCGATCGATCGATCGATCGATCGATCGATCGATCGATCGATCGATCGATCGATCGATCGATCGATCGATCGATCGATCGATCGATCGATCGATCGATCGATCGATCGATCGATCGATCGATCGATCGATCGATCGATCGATCGATCGATCGATCGATCGATCGATCGATCGATCGATCGATCGATCGATCGATCGATCGATCGATCGATCGATCGATCGATCGATCGATCGATCGATCGATCGATCGATCGATCGATCGATCGATCGATCGATCGATCGATCGATCGATCGATCGATCGATCGATCGATCGATCGATCGATCGATCGATCGATCGATCGATCGATCGATCGATCGATCGATCGATCGATCGATCGATCGATCGATCGATCGATCGATCGATCGATCGATCGATCGATCGATCGATCGATCGATCGATCGATCGATCGATCGATCGATCGATCGATCGATCGATCGATCGATCGATCGATCGATCGATCGATCGATCGATCGATCGATCGATCGATCGATCGATCGATCGATCGATCGATCGATCGATCGATCGATCGATCGATCGATCGATCGATCGATCGATCGATCGATCGATCGATCGATCGATCGATCGATCGATCGATCGATCGATCGATCGATCGATCGATCGATCGATCGATCGATCGATCGATCGATCGATCGATCGATCGATCGATCGATCGATCGATCGATCGATCGATCGATCGATCGATCGATCGATCGATCGATCGATCGATCGATCGATCGATCGATCGATCGATCGATCGATCGATCGATCGATCGATCGATCGATCGATCGATCGATCGATCGATCGATCGATCGATCGATCGATCGATCGATCGATCGATCGATCGATCGATCGATCGATCGATCGATCGATCGATCGATCGATCGATCGATCGATCGATCGATCGATCGATCGATCGATCGATCGATCGATCGATCGATCGATCGATCGATCGATCGATCGATCGATCGATCGATCGATCGATCGATCGATCGATCGATCGATCGATCGATCGATCGATCGATCGATCGATCGATCGATCGATCGATCGATCGATCGATCGATCGATCGATCGATCGATCGATCGATCGATCGATCGATCGATCGATCGATCGATCGATCGATCGATCGATCGATCGATCGATCGATCGATCGATCGATCGATCGATCGATCGATCGATCGATCGATCGATCGATCGATCGATCGATCGATCGATCGATCGATCGATCGATCGATCGATCGATCGATCGATCGATCGATCGATCGATCGATCGATCGATCGATCGATCGATCGATCGATCGATCGATCGATCGATCGATCGATCGATCGATCGATCGATCGATCGATCGATCGATCGATCGATCGATCGATCGATCGATCGATCGATCGATCGATCG\"\n",
        "cdna = \"\"\n",
        "\n",
        "for i in range(len(dna)):\n",
        "  if dna[i] == 'A':\n",
        "    cdna += 'T'\n",
        "  if dna[i] == 'T':\n",
        "    cdna += 'A'\n",
        "  if dna[i] == 'G':\n",
        "    cdna += 'C'\n",
        "  if dna[i] == 'C':\n",
        "    cdna += 'G'\n",
        "\n",
        "rcdna = cdna[::-1]\n",
        "print(\"Double stranded DNA is :\")\n",
        "print(dna)\n",
        "print(rcdna)"
      ],
      "metadata": {
        "colab": {
          "base_uri": "https://localhost:8080/"
        },
        "id": "vswXQHz8--FJ",
        "outputId": "f54f389f-36d3-4831-c8d3-240cf58f8f68"
      },
      "execution_count": 28,
      "outputs": [
        {
          "output_type": "stream",
          "name": "stdout",
          "text": [
            "Double stranded DNA is :\n",
            "ATGCGTACCGTCAGATCGATCGATCGATCGTAGCTAGCATCGATCGATCGATCGATCGATCGATCGATCGATCGATCGTAGCTAGCATCGATCGATCGATCGATCGATCGATCGATCGTAGCTAGCATCGATCGATCGATCGATCGATCGATCGATCGATCGTAGCTAGCATCGATCGATCGATCGATCGATCGATCGATCGATCGATCGTAGCTAGCATCGATCGATCGATCGATCGATCGATCGATCGTAGCTAGCATCGATCGATCGATCGATCGATCGATCGATCGATCGATCGTAGCTAGCATCGATCGATCGATCGATCGATCGATCGATCGTAGCTAGCATCGATCGATCGATCGATCGATCGATCGATCGATCGTAGCTAGCATCGATCGATCGATCGATCGATCGATCGATCGATCGTAGCTAGCATCGATCGATCGATCGATCGATCGATCGATCGATCGTAGCTAGCATCGATCGATCGATCGATCGATCGATCGATCGATCGATCGATCGATCGATCGATCGATCGATCGATCGATCGATCGATCGATCGATCGATCGATCGATCGATCGATCGATCGATCGATCGATCGATCGATCGATCGATCGATCGATCGATCGATCGATCGATCGATCGATCGATCGATCGATCGATCGATCGATCGATCGATCGATCGATCGATCGATCGATCGATCGATCGATCGATCGATCGATCGATCGATCGATCGATCGATCGATCGATCGATCGATCGATCGATCGATCGATCGATCGATCGATCGATCGATCGATCGATCGATCGATCGATCGATCGATCGATCGATCGATCGATCGATCGATCGATCGATCGATCGATCGATCGATCGATCGATCGATCGATCGATCGATCGATCGATCGATCGATCGATCGATCGATCGATCGATCGATCGATCGATCGATCGATCGATCGATCGATCGATCGATCGATCGATCGATCGATCGATCGATCGATCGATCGATCGATCGATCGATCGATCGATCGATCGATCGATCGATCGATCGATCGATCGATCGATCGATCGATCGATCGATCGATCGATCGATCGATCGATCGATCGATCGATCGATCGATCGATCGATCGATCGATCGATCGATCGATCGATCGATCGATCGATCGATCGATCGATCGATCGATCGATCGATCGATCGATCGATCGATCGATCGATCGATCGATCGATCGATCGATCGATCGATCGATCGATCGATCGATCGATCGATCGATCGATCGATCGATCGATCGATCGATCGATCGATCGATCGATCGATCGATCGATCGATCGATCGATCGATCGATCGATCGATCGATCGATCGATCGATCGATCGATCGATCGATCGATCGATCGATCGATCGATCGATCGATCGATCGATCGATCGATCGATCGATCGATCGATCGATCGATCGATCGATCGATCGATCGATCGATCGATCGATCGATCGATCGATCGATCGATCGATCGATCGATCGATCGATCGATCGATCGATCGATCGATCGATCGATCGATCGATCGATCGATCGATCGATCGATCGATCGATCGATCGATCGATCGATCGATCGATCGATCGATCGATCGATCGATCGATCGATCGATCGATCGATCGATCGATCGATCGATCGATCGATCGATCGATCGATCGATCGATCGATCGATCGATCGATCGATCGATCGATCGATCGATCGATCGATCGATCGATCGATCGATCGATCGATCGATCGATCGATCGATCGATCGATCGATCGATCGATCGATCGATCGATCGATCGATCGATCGATCGATCGATCGATCGATCGATCGATCGATCGATCGATCGATCGATCGATCGATCGATCGATCGATCGATCGATCGATCGATCGATCGATCGATCGATCGATCGATCGATCGATCGATCGATCGATCGATCGATCGATCGATCGATCGATCGATCGATCGATCGATCGATCGATCGATCGATCGATCGATCGATCGATCGATCGATCGATCGATCGATCGATCGATCGATCGATCGATCGATCGATCGATCGATCGATCGATCGATCGATCGATCGATCGATCGATCGATCGATCGATCGATCGATCGATCGATCGATCGATCGATCGATCGATCGATCGATCGATCGATCGATCGATCGATCGATCGATCGATCGATCGATCGATCGATCGATCGATCGATCGATCGATCGATCGATCGATCGATCGATCGATCGATCGATCGATCGATCGATCGATCGATCGATCGATCGATCGATCGATCGATCGATCGATCGATCGATCGATCGATCGATCGATCGATCGATCGATCGATCGATCGATCGATCGATCGATCGATCGATCGATCGATCGATCGATCGATCGATCGATCGATCGATCGATCGATCGATCGATCGATCGATCGATCGATCGATCGATCGATCGATCGATCGATCGATCGATCGATCGATCGATCGATCGATCGATCGATCGATCGATCGATCGATCGATCGATCGATCGATCGATCGATCGATCGATCGATCGATCGATCGATCGATCG\n",
            "CGATCGATCGATCGATCGATCGATCGATCGATCGATCGATCGATCGATCGATCGATCGATCGATCGATCGATCGATCGATCGATCGATCGATCGATCGATCGATCGATCGATCGATCGATCGATCGATCGATCGATCGATCGATCGATCGATCGATCGATCGATCGATCGATCGATCGATCGATCGATCGATCGATCGATCGATCGATCGATCGATCGATCGATCGATCGATCGATCGATCGATCGATCGATCGATCGATCGATCGATCGATCGATCGATCGATCGATCGATCGATCGATCGATCGATCGATCGATCGATCGATCGATCGATCGATCGATCGATCGATCGATCGATCGATCGATCGATCGATCGATCGATCGATCGATCGATCGATCGATCGATCGATCGATCGATCGATCGATCGATCGATCGATCGATCGATCGATCGATCGATCGATCGATCGATCGATCGATCGATCGATCGATCGATCGATCGATCGATCGATCGATCGATCGATCGATCGATCGATCGATCGATCGATCGATCGATCGATCGATCGATCGATCGATCGATCGATCGATCGATCGATCGATCGATCGATCGATCGATCGATCGATCGATCGATCGATCGATCGATCGATCGATCGATCGATCGATCGATCGATCGATCGATCGATCGATCGATCGATCGATCGATCGATCGATCGATCGATCGATCGATCGATCGATCGATCGATCGATCGATCGATCGATCGATCGATCGATCGATCGATCGATCGATCGATCGATCGATCGATCGATCGATCGATCGATCGATCGATCGATCGATCGATCGATCGATCGATCGATCGATCGATCGATCGATCGATCGATCGATCGATCGATCGATCGATCGATCGATCGATCGATCGATCGATCGATCGATCGATCGATCGATCGATCGATCGATCGATCGATCGATCGATCGATCGATCGATCGATCGATCGATCGATCGATCGATCGATCGATCGATCGATCGATCGATCGATCGATCGATCGATCGATCGATCGATCGATCGATCGATCGATCGATCGATCGATCGATCGATCGATCGATCGATCGATCGATCGATCGATCGATCGATCGATCGATCGATCGATCGATCGATCGATCGATCGATCGATCGATCGATCGATCGATCGATCGATCGATCGATCGATCGATCGATCGATCGATCGATCGATCGATCGATCGATCGATCGATCGATCGATCGATCGATCGATCGATCGATCGATCGATCGATCGATCGATCGATCGATCGATCGATCGATCGATCGATCGATCGATCGATCGATCGATCGATCGATCGATCGATCGATCGATCGATCGATCGATCGATCGATCGATCGATCGATCGATCGATCGATCGATCGATCGATCGATCGATCGATCGATCGATCGATCGATCGATCGATCGATCGATCGATCGATCGATCGATCGATCGATCGATCGATCGATCGATCGATCGATCGATCGATCGATCGATCGATCGATCGATCGATCGATCGATCGATCGATCGATCGATCGATCGATCGATCGATCGATCGATCGATCGATCGATCGATCGATCGATCGATCGATCGATCGATCGATCGATCGATCGATCGATCGATCGATCGATCGATCGATCGATCGATCGATCGATCGATCGATCGATCGATCGATCGATCGATCGATCGATCGATCGATCGATCGATCGATCGATCGATCGATCGATCGATCGATCGATCGATCGATCGATCGATCGATCGATCGATCGATCGATCGATCGATCGATCGATCGATCGATCGATCGATCGATCGATCGATCGATCGATCGATCGATCGATCGATCGATCGATCGATCGATCGATCGATCGATCGATCGATCGATCGATCGATCGATCGATCGATCGATCGATCGATCGATCGATCGATCGATCGATCGATCGATCGATCGATCGATCGATCGATCGATCGATCGATCGATCGATCGATCGATCGATCGATCGATCGATCGATCGATCGATCGATCGATCGATCGATCGATCGATCGATCGATCGATCGATCGATCGATCGATGCTAGCTACGATCGATCGATCGATCGATCGATCGATCGATCGATGCTAGCTACGATCGATCGATCGATCGATCGATCGATCGATCGATGCTAGCTACGATCGATCGATCGATCGATCGATCGATCGATCGATGCTAGCTACGATCGATCGATCGATCGATCGATCGATCGATGCTAGCTACGATCGATCGATCGATCGATCGATCGATCGATCGATCGATGCTAGCTACGATCGATCGATCGATCGATCGATCGATCGATGCTAGCTACGATCGATCGATCGATCGATCGATCGATCGATCGATCGATGCTAGCTACGATCGATCGATCGATCGATCGATCGATCGATCGATGCTAGCTACGATCGATCGATCGATCGATCGATCGATCGATGCTAGCTACGATCGATCGATCGATCGATCGATCGATCGATCGATCGATGCTAGCTACGATCGATCGATCGATCTGACGGTACGCAT\n"
          ]
        }
      ]
    },
    {
      "cell_type": "markdown",
      "source": [
        "Q7: Convert a DNA sequence into an mRNA Sequence"
      ],
      "metadata": {
        "id": "4ltTxt13B3Fb"
      }
    },
    {
      "cell_type": "code",
      "source": [
        "dna = \"\"\"ATGCGTACCGTCAGATCGATCGATCGATCGTAGCTAGCATCGATCGATCGATCGATCGATCGATCGATCGATCGATCGTAGCTAGCATCGATCGATCGATCGATCGATCGATCGATCGTAGCTAGCATCGATCGATCGATCGATCGATCGATCGATCGATCGTAGCTAGCATCGATCGATCGATCGATCGATCGATCGATCGATCGATCGTAGCTAGCATCGATCGATCGATCGATCGATCGATCGATCGTAGCTAGCATCGATCGATCGATCGATCGATCGATCGATCGATCGATCGTAGCTAGCATCGATCGATCGATCGATCGATCGATCGATCGTAGCTAGCATCGATCGATCGATCGATCGATCGATCGATCGATCGTAGCTAGCATCGATCGATCGATCGATCGATCGATCGATCGATCGTAGCTAGCATCGATCGATCGATCGATCGATCGATCGATCGATCGTAGCTAGCATCGATCGATCGATCGATCGATCGATCGATCGATCGATCGATCGATCGATCGATCGATCGATCGATCGATCGATCGATCGATCGATCGATCGATCGATCGATCGATCGATCGATCGATCGATCGATCGATCGATCGATCGATCGATCGATCGATCGATCGATCGATCGATCGATCGATCGATCGATCGATCGATCGATCGATCGATCGATCGATCGATCGATCGATCGATCGATCGATCGATCGATCGATCGATCGATCGATCGATCGATCGATCGATCGATCGATCGATCGATCGATCGATCGATCGATCGATCGATCGATCGATCGATCGATCGATCGATCGATCGATCGATCGATCGATCGATCGATCGATCGATCGATCGATCGATCGATCGATCGATCGATCGATCGATCGATCGATCGATCGATCGATCGATCGATCGATCGATCGATCGATCGATCGATCGATCGATCGATCGATCGATCGATCGATCGATCGATCGATCGATCGATCGATCGATCGATCGATCGATCGATCGATCGATCGATCGATCGATCGATCGATCGATCGATCGATCGATCGATCGATCGATCGATCGATCGATCGATCGATCGATCGATCGATCGATCGATCGATCGATCGATCGATCGATCGATCGATCGATCGATCGATCGATCGATCGATCGATCGATCGATCGATCGATCGATCGATCGATCGATCGATCGATCGATCGATCGATCGATCGATCGATCGATCGATCGATCGATCGATCGATCGATCGATCGATCGATCGATCGATCGATCGATCGATCGATCGATCGATCGATCGATCGATCGATCGATCGATCGATCGATCGATCGATCGATCGATCGATCGATCGATCGATCGATCGATCGATCGATCGATCGATCGATCGATCGATCGATCGATCGATCGATCGATCGATCGATCGATCGATCGATCGATCGATCGATCGATCGATCGATCGATCGATCGATCGATCGATCGATCGATCGATCGATCGATCGATCGATCGATCGATCGATCGATCGATCGATCGATCGATCGATCGATCGATCGATCGATCGATCGATCGATCGATCGATCGATCGATCGATCGATCGATCGATCGATCGATCGATCGATCGATCGATCGATCGATCGATCGATCGATCGATCGATCGATCGATCGATCGATCGATCGATCGATCGATCGATCGATCGATCGATCGATCGATCGATCGATCGATCGATCGATCGATCGATCGATCGATCGATCGATCGATCGATCGATCGATCGATCGATCGATCGATCGATCGATCGATCGATCGATCGATCGATCGATCGATCGATCGATCGATCGATCGATCGATCGATCGATCGATCGATCGATCGATCGATCGATCGATCGATCGATCGATCGATCGATCGATCGATCGATCGATCGATCGATCGATCGATCGATCGATCGATCGATCGATCGATCGATCGATCGATCGATCGATCGATCGATCGATCGATCGATCGATCGATCGATCGATCGATCGATCGATCGATCGATCGATCGATCGATCGATCGATCGATCGATCGATCGATCGATCGATCGATCGATCGATCGATCGATCGATCGATCGATCGATCGATCGATCGATCGATCGATCGATCGATCGATCGATCGATCGATCGATCGATCGATCGATCGATCGATCGATCGATCGATCGATCGATCGATCGATCGATCGATCGATCGATCGATCGATCGATCGATCGATCGATCGATCGATCGATCGATCGATCGATCGATCGATCGATCGATCGATCGATCGATCGATCGATCGATCGATCGATCGATCGATCGATCGATCGATCGATCGATCGATCGATCGATCGATCGATCGATCGATCGATCGATCGATCGATCGATCGATCGATCGATCGATCGATCGATCGATCGATCGATCGATCGATCGATCGATCGATCGATCGATCGATCGATCGATCGATCGATCGATCGATCGATCGATCGATCGATCGATCGATCGATCGATCGATCGATCGATCGATCGATCGATCGATCGATCGATCGATCGATCGATCGATCG\n",
        "\"\"\"\n",
        "\n",
        "mrna=\"\"\n",
        "for base in dna:\n",
        "  if(base == 'A'):\n",
        "    mrna += 'U'\n",
        "  if(base == 'T'):\n",
        "    mrna += 'A'\n",
        "  if(base == 'G'):\n",
        "    mrna += 'C'\n",
        "  if(base == 'C'):\n",
        "    mrna += 'G'\n",
        "\n",
        "\n",
        "print (\"The mRNA sequence is: \\n\",mrna);"
      ],
      "metadata": {
        "colab": {
          "base_uri": "https://localhost:8080/"
        },
        "id": "5AozFVs8CBXD",
        "outputId": "cfc2c312-aca6-41e7-98fb-ba5f2de47e4d"
      },
      "execution_count": 37,
      "outputs": [
        {
          "output_type": "stream",
          "name": "stdout",
          "text": [
            "The mRNA sequence is: \n",
            " UACGCAUGGCAGUCUAGCUAGCUAGCUAGCAUCGAUCGUAGCUAGCUAGCUAGCUAGCUAGCUAGCUAGCUAGCUAGCAUCGAUCGUAGCUAGCUAGCUAGCUAGCUAGCUAGCUAGCAUCGAUCGUAGCUAGCUAGCUAGCUAGCUAGCUAGCUAGCUAGCAUCGAUCGUAGCUAGCUAGCUAGCUAGCUAGCUAGCUAGCUAGCUAGCAUCGAUCGUAGCUAGCUAGCUAGCUAGCUAGCUAGCUAGCAUCGAUCGUAGCUAGCUAGCUAGCUAGCUAGCUAGCUAGCUAGCUAGCAUCGAUCGUAGCUAGCUAGCUAGCUAGCUAGCUAGCUAGCAUCGAUCGUAGCUAGCUAGCUAGCUAGCUAGCUAGCUAGCUAGCAUCGAUCGUAGCUAGCUAGCUAGCUAGCUAGCUAGCUAGCUAGCAUCGAUCGUAGCUAGCUAGCUAGCUAGCUAGCUAGCUAGCUAGCAUCGAUCGUAGCUAGCUAGCUAGCUAGCUAGCUAGCUAGCUAGCUAGCUAGCUAGCUAGCUAGCUAGCUAGCUAGCUAGCUAGCUAGCUAGCUAGCUAGCUAGCUAGCUAGCUAGCUAGCUAGCUAGCUAGCUAGCUAGCUAGCUAGCUAGCUAGCUAGCUAGCUAGCUAGCUAGCUAGCUAGCUAGCUAGCUAGCUAGCUAGCUAGCUAGCUAGCUAGCUAGCUAGCUAGCUAGCUAGCUAGCUAGCUAGCUAGCUAGCUAGCUAGCUAGCUAGCUAGCUAGCUAGCUAGCUAGCUAGCUAGCUAGCUAGCUAGCUAGCUAGCUAGCUAGCUAGCUAGCUAGCUAGCUAGCUAGCUAGCUAGCUAGCUAGCUAGCUAGCUAGCUAGCUAGCUAGCUAGCUAGCUAGCUAGCUAGCUAGCUAGCUAGCUAGCUAGCUAGCUAGCUAGCUAGCUAGCUAGCUAGCUAGCUAGCUAGCUAGCUAGCUAGCUAGCUAGCUAGCUAGCUAGCUAGCUAGCUAGCUAGCUAGCUAGCUAGCUAGCUAGCUAGCUAGCUAGCUAGCUAGCUAGCUAGCUAGCUAGCUAGCUAGCUAGCUAGCUAGCUAGCUAGCUAGCUAGCUAGCUAGCUAGCUAGCUAGCUAGCUAGCUAGCUAGCUAGCUAGCUAGCUAGCUAGCUAGCUAGCUAGCUAGCUAGCUAGCUAGCUAGCUAGCUAGCUAGCUAGCUAGCUAGCUAGCUAGCUAGCUAGCUAGCUAGCUAGCUAGCUAGCUAGCUAGCUAGCUAGCUAGCUAGCUAGCUAGCUAGCUAGCUAGCUAGCUAGCUAGCUAGCUAGCUAGCUAGCUAGCUAGCUAGCUAGCUAGCUAGCUAGCUAGCUAGCUAGCUAGCUAGCUAGCUAGCUAGCUAGCUAGCUAGCUAGCUAGCUAGCUAGCUAGCUAGCUAGCUAGCUAGCUAGCUAGCUAGCUAGCUAGCUAGCUAGCUAGCUAGCUAGCUAGCUAGCUAGCUAGCUAGCUAGCUAGCUAGCUAGCUAGCUAGCUAGCUAGCUAGCUAGCUAGCUAGCUAGCUAGCUAGCUAGCUAGCUAGCUAGCUAGCUAGCUAGCUAGCUAGCUAGCUAGCUAGCUAGCUAGCUAGCUAGCUAGCUAGCUAGCUAGCUAGCUAGCUAGCUAGCUAGCUAGCUAGCUAGCUAGCUAGCUAGCUAGCUAGCUAGCUAGCUAGCUAGCUAGCUAGCUAGCUAGCUAGCUAGCUAGCUAGCUAGCUAGCUAGCUAGCUAGCUAGCUAGCUAGCUAGCUAGCUAGCUAGCUAGCUAGCUAGCUAGCUAGCUAGCUAGCUAGCUAGCUAGCUAGCUAGCUAGCUAGCUAGCUAGCUAGCUAGCUAGCUAGCUAGCUAGCUAGCUAGCUAGCUAGCUAGCUAGCUAGCUAGCUAGCUAGCUAGCUAGCUAGCUAGCUAGCUAGCUAGCUAGCUAGCUAGCUAGCUAGCUAGCUAGCUAGCUAGCUAGCUAGCUAGCUAGCUAGCUAGCUAGCUAGCUAGCUAGCUAGCUAGCUAGCUAGCUAGCUAGCUAGCUAGCUAGCUAGCUAGCUAGCUAGCUAGCUAGCUAGCUAGCUAGCUAGCUAGCUAGCUAGCUAGCUAGCUAGCUAGCUAGCUAGCUAGCUAGCUAGCUAGCUAGCUAGCUAGCUAGCUAGCUAGCUAGCUAGCUAGCUAGCUAGCUAGCUAGCUAGCUAGCUAGCUAGCUAGCUAGCUAGCUAGCUAGCUAGCUAGCUAGCUAGCUAGCUAGCUAGCUAGCUAGCUAGCUAGCUAGCUAGCUAGCUAGCUAGCUAGCUAGCUAGCUAGCUAGCUAGCUAGCUAGCUAGCUAGCUAGCUAGCUAGCUAGCUAGCUAGCUAGCUAGCUAGCUAGCUAGCUAGCUAGCUAGCUAGCUAGCUAGCUAGCUAGCUAGCUAGCUAGCUAGCUAGCUAGCUAGCUAGCUAGCUAGCUAGCUAGCUAGCUAGCUAGCUAGCUAGCUAGCUAGCUAGCUAGCUAGCUAGCUAGCUAGCUAGCUAGCUAGCUAGCUAGCUAGCUAGCUAGCUAGCUAGCUAGCUAGCUAGCUAGCUAGCUAGCUAGCUAGCUAGCUAGCUAGCUAGCUAGCUAGC\n"
          ]
        }
      ]
    },
    {
      "cell_type": "markdown",
      "source": [
        "Q8: Check the existence of a start codon in the mRNA sequence"
      ],
      "metadata": {
        "id": "OWYE71koCfI7"
      }
    },
    {
      "cell_type": "code",
      "source": [
        "import re\n",
        "\n",
        "mrna = \"UUCUACAAUGCCUACCUAACA\"\n",
        "if re.search(\"AUG\", mrna):\n",
        "    print(\"The mRNA sequence contains the start codon AUG.\")\n",
        "    position = re.search(\"AUG\", mrna)\n",
        "    print(\"AUG occurs at position:\", position.start())\n",
        "else:\n",
        "    print(\"The start codon AUG is not found in the mRNA sequence.\")\n"
      ],
      "metadata": {
        "colab": {
          "base_uri": "https://localhost:8080/"
        },
        "id": "Z6pNiZssCtaD",
        "outputId": "b6b8fa67-1e89-4fee-c5cf-b390098ce08b"
      },
      "execution_count": 35,
      "outputs": [
        {
          "output_type": "stream",
          "name": "stdout",
          "text": [
            "The mRNA sequence contains the start codon AUG.\n",
            "AUG occurs at position: 7\n"
          ]
        }
      ]
    },
    {
      "cell_type": "markdown",
      "source": [
        "Q9: Check the existence of stop codon in the mRNA sequence"
      ],
      "metadata": {
        "id": "qM9QUvX1DHwC"
      }
    },
    {
      "cell_type": "code",
      "source": [
        "import re\n",
        "if(re.search(\"UAA|UAG|UGA\",mrna)):\n",
        "  print(\"A stop codon is found in the mRNA sequence \")\n",
        "  pos = re.search(\"UAA|UAG|UGA\",mrna)\n",
        "  print(\"The occurrence of \",pos.group(),\" is at : \",pos.start())\n",
        "else:\n",
        "  print(\"The stop codon not found in the mRNA sequence\")"
      ],
      "metadata": {
        "colab": {
          "base_uri": "https://localhost:8080/"
        },
        "id": "D0hROmLsDSEd",
        "outputId": "24348ced-8ffb-4a10-9d0b-3f43c8668f28"
      },
      "execution_count": 45,
      "outputs": [
        {
          "output_type": "stream",
          "name": "stdout",
          "text": [
            "A stop codon is found in the mRNA sequence \n",
            "The occurrence of  UAG  is at :  14\n"
          ]
        }
      ]
    },
    {
      "cell_type": "markdown",
      "source": [
        "Q10: Find positions of the start and stop codon present in an mRNA sequence. Extract the coding region using the start and stop codons"
      ],
      "metadata": {
        "id": "CNYnQH4tFUmO"
      }
    },
    {
      "cell_type": "code",
      "source": [
        "import re\n",
        "mrna = \"AUGCCUACCUAA\"\n",
        "exp = \"AUG\\w+UAA|UAG|UGA\"\n",
        "x= re.search(exp,mrna)\n",
        "str = x.group()[:-3]\n",
        "print(\"The coding region is (with stop codon) : \",x.group())\n",
        "print(\"The coding region is : \",str)"
      ],
      "metadata": {
        "colab": {
          "base_uri": "https://localhost:8080/"
        },
        "id": "DGQtGDM_FdCl",
        "outputId": "a9374bc3-0f54-4fdb-b4a3-c91c3bc96879"
      },
      "execution_count": 50,
      "outputs": [
        {
          "output_type": "stream",
          "name": "stdout",
          "text": [
            "The coding region is (with stop codon) :  AUGCCUACCUAA\n",
            "The coding region is :  AUGCCUACC\n"
          ]
        }
      ]
    },
    {
      "cell_type": "markdown",
      "source": [
        "Q11: Use a python dictionary to convert an peptide chain from its one letter codon representation to three letter codon representation"
      ],
      "metadata": {
        "id": "s-tExerKGPKQ"
      }
    },
    {
      "cell_type": "code",
      "source": [
        "threeLetterCode = {'A':'ALA','C':'CYS','D':'ASP','E':'GLU','F':'PHE','G':'GLY',\n",
        "                     'H':'HIS','I':'ILE','K':'LYS','L':'LEU','M':'MET','N':'ASN',\n",
        "                     'P':'PRO','Q':'QLN','R':'ARG','S':'SER','T':'THR','V':'VAL',\n",
        "                     'W':'TRP','Y':'TYR'}\n",
        "peptide1 = \"MASKATLLLAFTLLFATCIA\"\n",
        "peptide2 =\"\"\n",
        "for i in peptide1:\n",
        "  \t peptide2 +=threeLetterCode[i]\n",
        "print(\"Polypeptide chain\")\n",
        "print(\"1 letter code  : \",peptide1)\n",
        "print(\"3 letter code  : \",peptide2)"
      ],
      "metadata": {
        "colab": {
          "base_uri": "https://localhost:8080/"
        },
        "id": "podbXaqbGVNb",
        "outputId": "95c9bdad-a652-4a6f-9119-5cc1fd9086ae"
      },
      "execution_count": 64,
      "outputs": [
        {
          "output_type": "stream",
          "name": "stdout",
          "text": [
            "Polypeptide chain\n",
            "1 letter code  :  MASKATLLLAFTLLFATCIA\n",
            "3 letter code  :  METALASERLYSALATHRLEULEULEUALAPHETHRLEULEUPHEALATHRCYSILEALA\n"
          ]
        }
      ]
    },
    {
      "cell_type": "markdown",
      "source": [
        "Q12 : calculates the molecular weight of a protein based on weight  of individual amino acids (Given as a dictionary)"
      ],
      "metadata": {
        "id": "BpdmamBeHKiT"
      }
    },
    {
      "cell_type": "code",
      "source": [
        "peptide = \"VPQLRHYGLIASTKTRVLFQ\"\n",
        "proteinWt = {'A':89, 'V':117, 'L':131, 'I':131, 'P':115,\n",
        " 'F':165, 'W':204, 'M':149, 'G':75, 'S':105,\n",
        " 'C':121, 'T':119, 'Y':181, 'N':132, 'Q':146,\n",
        "'D':133, 'E':147, 'K':146, 'R':174, 'H':155}\n",
        "total = 0\n",
        "\n",
        "for aa in peptide:\n",
        "  total += proteinWt.get(aa.upper(), 0)\n",
        "total -= (18 * (len(peptide) - 1))\n",
        "print(f\"The net weight of the Protein : {total}\")"
      ],
      "metadata": {
        "colab": {
          "base_uri": "https://localhost:8080/"
        },
        "id": "evWoM-1VHX2R",
        "outputId": "6cdcc856-a87b-486b-e7cc-2dfe24997c74"
      },
      "execution_count": 66,
      "outputs": [
        {
          "output_type": "stream",
          "name": "stdout",
          "text": [
            "The net weight of the Protein : 2325\n"
          ]
        }
      ]
    }
  ]
}