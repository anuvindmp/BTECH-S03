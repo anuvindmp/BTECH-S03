{
 "cells": [
  {
   "cell_type": "code",
   "execution_count": 2,
   "metadata": {},
   "outputs": [
    {
     "name": "stdout",
     "output_type": "stream",
     "text": [
      "h\n"
     ]
    }
   ],
   "source": [
    "#a\n",
    "q=input('Enter a value : ')\n",
    "print(q)\n",
    "\n",
    "#observation :\n",
    "#since the input type is not specified,the input will be stored as a string.\n",
    "#The printed statement will be a string irrespective of the datatype\n"
   ]
  },
  {
   "cell_type": "code",
   "execution_count": 1,
   "metadata": {},
   "outputs": [
    {
     "name": "stdout",
     "output_type": "stream",
     "text": [
      "57\n"
     ]
    }
   ],
   "source": [
    "#b\n",
    "q=input('Enter a value : ')\n",
    "Q=input('Enter a value : ')\n",
    "print(q+Q)\n",
    "\n",
    "#observation\n",
    "#since the input type is not specified,the input will be stored as a string. \n",
    "#it will concatenate the two inputs while printing.\n"
   ]
  },
  {
   "cell_type": "code",
   "execution_count": 8,
   "metadata": {},
   "outputs": [
    {
     "name": "stdout",
     "output_type": "stream",
     "text": [
      "11\n"
     ]
    }
   ],
   "source": [
    "#c\n",
    "q=input('Enter a value : ')\n",
    "Q=input('Enter a value : ')\n",
    "x = int(q)\n",
    "y = int(Q)\n",
    "z=x+y\n",
    "print(z)\n",
    "\n",
    "#observation\n",
    "#q & Q take the inputs and string, but it is later \n",
    "#typecasted into integer and stored in variables x and y.\n",
    "#therefore other than integers any other input given will be an error."
   ]
  },
  {
   "cell_type": "code",
   "execution_count": 9,
   "metadata": {},
   "outputs": [
    {
     "name": "stdout",
     "output_type": "stream",
     "text": [
      "The name is: hehe\n",
      "The age is: 69\n",
      "The marks is: 58.5\n"
     ]
    }
   ],
   "source": [
    "#d\n",
    "name = input(\"Enter your name : \")\n",
    "age = int(input(\"Enter your age : \"))\n",
    "marks = float(input(\"Enter your marks : \"))\n",
    "print(\"The name is:\", name)\n",
    "print(\"The age is:\", age)\n",
    "print(\"The marks is:\", marks)\n",
    "\n",
    "#observation\n",
    "#name is taken as a string input, age is taken as a integer input and marks is taken as float\n",
    "#and stored in their respective variables.\n",
    "#and is printed"
   ]
  }
 ],
 "metadata": {
  "kernelspec": {
   "display_name": "Python 3",
   "language": "python",
   "name": "python3"
  },
  "language_info": {
   "codemirror_mode": {
    "name": "ipython",
    "version": 3
   },
   "file_extension": ".py",
   "mimetype": "text/x-python",
   "name": "python",
   "nbconvert_exporter": "python",
   "pygments_lexer": "ipython3",
   "version": "3.11.2"
  }
 },
 "nbformat": 4,
 "nbformat_minor": 2
}
