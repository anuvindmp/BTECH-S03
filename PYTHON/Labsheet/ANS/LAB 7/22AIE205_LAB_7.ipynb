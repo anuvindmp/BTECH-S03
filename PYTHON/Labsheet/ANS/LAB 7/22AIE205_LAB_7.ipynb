{
  "cells": [
    {
      "cell_type": "markdown",
      "metadata": {
        "id": "GfIY3WRNlbkS"
      },
      "source": [
        "## Anuvind MP\n",
        "\n",
        "### AM.EN.U4AIE22010"
      ]
    },
    {
      "cell_type": "markdown",
      "metadata": {
        "id": "9oD1zPTtoU-5"
      },
      "source": [
        "###Q1"
      ]
    },
    {
      "cell_type": "code",
      "execution_count": 1,
      "metadata": {
        "colab": {
          "base_uri": "https://localhost:8080/"
        },
        "id": "NsYMCBfsZLqz",
        "outputId": "0318875f-6a37-4e52-f714-aebf9096476b"
      },
      "outputs": [
        {
          "name": "stdout",
          "output_type": "stream",
          "text": [
            "1\t2\t3\t4\t5\t\n",
            "2\t4\t6\t8\t10\t\n",
            "3\t6\t9\t12\t15\t\n",
            "4\t8\t12\t16\t20\t\n",
            "5\t10\t15\t20\t25\t\n",
            "6\t12\t18\t24\t30\t\n",
            "7\t14\t21\t28\t35\t\n",
            "8\t16\t24\t32\t40\t\n",
            "9\t18\t27\t36\t45\t\n",
            "10\t20\t30\t40\t50\t\n"
          ]
        }
      ],
      "source": [
        "for i in range(1, 11):\n",
        "    for j in range(1, 6):\n",
        "        print(i * j, end=\"\\t\")\n",
        "    print()"
      ]
    },
    {
      "cell_type": "markdown",
      "metadata": {
        "id": "GlERGpatoYoF"
      },
      "source": [
        "###Q2"
      ]
    },
    {
      "cell_type": "code",
      "execution_count": 2,
      "metadata": {
        "colab": {
          "base_uri": "https://localhost:8080/"
        },
        "id": "hWeiAGLuflL0",
        "outputId": "c827cc2f-82d4-48b9-ad5a-dc39362cb908"
      },
      "outputs": [
        {
          "name": "stdout",
          "output_type": "stream",
          "text": [
            "0\n",
            "1\n",
            "3\n",
            "6\n",
            "10\n",
            "15\n",
            "21\n",
            "28\n",
            "36\n",
            "45\n"
          ]
        }
      ],
      "source": [
        "#a\n",
        "count = 0\n",
        "s = 0\n",
        "\n",
        "while count <10:\n",
        "    s += count\n",
        "    count = count + 1  # Properly indented\n",
        "    print(s)"
      ]
    },
    {
      "cell_type": "code",
      "execution_count": 4,
      "metadata": {
        "colab": {
          "base_uri": "https://localhost:8080/"
        },
        "id": "GYf3GatFgL9k",
        "outputId": "d71ef1e1-cad2-4d34-89d0-f2623fa6af10"
      },
      "outputs": [
        {
          "name": "stdout",
          "output_type": "stream",
          "text": [
            "10\n",
            "9\n",
            "8\n",
            "7\n",
            "6\n",
            "5\n",
            "4\n",
            "3\n",
            "2\n",
            "1\n"
          ]
        }
      ],
      "source": [
        "#b\n",
        "count=0\n",
        "for i in range(10,0,-1): #Added colon\n",
        "        print(i)\n"
      ]
    },
    {
      "cell_type": "markdown",
      "metadata": {
        "id": "WBhEhe4foc9v"
      },
      "source": [
        "###Q3"
      ]
    },
    {
      "cell_type": "code",
      "execution_count": 3,
      "metadata": {
        "colab": {
          "base_uri": "https://localhost:8080/"
        },
        "id": "A7BY4F_Qg7qN",
        "outputId": "e02b818e-70ac-4687-e54e-b1dad0de3114"
      },
      "outputs": [
        {
          "name": "stdout",
          "output_type": "stream",
          "text": [
            "\n",
            "Weekly Chocolate Bill:-\n",
            "\n",
            "Day 1: 5 chocolates \t $7.50\n",
            "Day 2: 5 chocolates \t $8.75\n",
            "Day 3: 5 chocolates \t $10.00\n",
            "Day 4: 5 chocolates \t $9.50\n",
            "Day 5: 5 chocolates \t $11.25\n",
            "Day 6: 5 chocolates \t $10.50\n",
            "Day 7: 5 chocolates \t $9.00\n",
            "\n",
            "Total: $66.50\n"
          ]
        }
      ],
      "source": [
        "def generate_weekly_bill(chocolates_per_day, prices):\n",
        "    total_cost = 0\n",
        "    bill = \"\\nWeekly Chocolate Bill:-\\n\\n\"\n",
        "\n",
        "\n",
        "    for day, chocolates in enumerate(chocolates_per_day, start=1):\n",
        "        total_cost += chocolates * prices[day]\n",
        "        bill += f\"Day {day}: {chocolates} chocolates \\t ${chocolates * prices[day]:.2f}\\n\"\n",
        "\n",
        "    bill += f\"\\nTotal: ${total_cost:.2f}\"\n",
        "    return bill\n",
        "\n",
        "def send_bill_to_father(bill):\n",
        "    print(bill)\n",
        "\n",
        "def main():\n",
        "    prices = {\n",
        "        1: 1.5,\n",
        "        2: 1.75,\n",
        "        3: 2.0,\n",
        "        4: 1.9,\n",
        "        5: 2.25,\n",
        "        6: 2.1,\n",
        "        7: 1.8\n",
        "    }\n",
        "\n",
        "\n",
        "    chocolates_per_day = [5, 5, 5, 5, 5, 5, 5]\n",
        "\n",
        "    bill = generate_weekly_bill(chocolates_per_day, prices)\n",
        "    send_bill_to_father(bill)\n",
        "\n",
        "if __name__ == \"__main__\":\n",
        "    main()\n"
      ]
    },
    {
      "cell_type": "markdown",
      "metadata": {
        "id": "XNmgBadvofdh"
      },
      "source": [
        "###Q4"
      ]
    },
    {
      "cell_type": "code",
      "execution_count": 7,
      "metadata": {
        "colab": {
          "base_uri": "https://localhost:8080/"
        },
        "id": "_2uWBnsvjNgP",
        "outputId": "67824bae-5629-4e00-d1e1-91d19113586e"
      },
      "outputs": [
        {
          "name": "stdout",
          "output_type": "stream",
          "text": [
            "Enter the password: 123\n",
            "Incorrect password. You have 2 attempt(s) remaining.\n",
            "Enter the password: 1234\n",
            "Incorrect password. You have 1 attempt(s) remaining.\n",
            "Enter the password: 1234567\n",
            "Welcome! Access granted.\n"
          ]
        }
      ],
      "source": [
        "def check_password(password):\n",
        "    correct_password = \"1234567\"\n",
        "\n",
        "    if password == correct_password:\n",
        "        return True\n",
        "    else:\n",
        "        return False\n",
        "\n",
        "def main():\n",
        "    attempts = 3\n",
        "\n",
        "    while attempts > 0:\n",
        "        password = input(\"Enter the password: \")\n",
        "\n",
        "        if check_password(password):\n",
        "            print(\"Welcome! Access granted.\")\n",
        "            break\n",
        "        else:\n",
        "            attempts -= 1\n",
        "            if attempts > 0:\n",
        "                print(\"Incorrect password. You have\", attempts, \"attempt(s) remaining.\")\n",
        "            else:\n",
        "                print(\"You have exhausted all attempts. Access denied.\")\n",
        "                break\n",
        "\n",
        "if __name__ == \"__main__\":\n",
        "    main()"
      ]
    },
    {
      "cell_type": "markdown",
      "metadata": {
        "id": "MFKI7d9Toi82"
      },
      "source": [
        "###Q5"
      ]
    },
    {
      "cell_type": "code",
      "execution_count": 8,
      "metadata": {
        "colab": {
          "base_uri": "https://localhost:8080/"
        },
        "id": "vmJFZ0zqjkZY",
        "outputId": "11acf658-ada1-43a4-b578-5f66d36103c7"
      },
      "outputs": [
        {
          "name": "stdout",
          "output_type": "stream",
          "text": [
            "PythonProgramProgramPython\n"
          ]
        }
      ],
      "source": [
        "def mirrorText(word1, word2):\n",
        "    return word1 + word2 + word2 + word1\n",
        "\n",
        "word1 = \"Python\"\n",
        "word2 = \"Program\"\n",
        "result = mirrorText(word1, word2)\n",
        "print(result)\n"
      ]
    },
    {
      "cell_type": "markdown",
      "metadata": {
        "id": "iJ2weIBGok0Q"
      },
      "source": [
        "###Q6"
      ]
    },
    {
      "cell_type": "code",
      "execution_count": 10,
      "metadata": {
        "colab": {
          "base_uri": "https://localhost:8080/"
        },
        "id": "b-A1r42sj1Lh",
        "outputId": "f191387d-74fe-4c5a-ab55-ede23a2f2f7d"
      },
      "outputs": [
        {
          "name": "stdout",
          "output_type": "stream",
          "text": [
            "Enter the list of numbers separated by spaces: 2 13 4 19 20\n",
            "List of prime numbers: [True, True, False, True, False]\n"
          ]
        }
      ],
      "source": [
        "def is_prime(n):\n",
        "    if n <= 1:\n",
        "        return False\n",
        "    for i in range(2, int(n ** 0.5) + 1):\n",
        "        if n % i == 0:\n",
        "            return False\n",
        "    return True\n",
        "\n",
        "def check_prime_numbers(lst):\n",
        "    return [is_prime(num) for num in lst]\n",
        "\n",
        "def main():\n",
        "    user_input = input(\"Enter the list of numbers separated by spaces: \")\n",
        "    input_list = [int(num) for num in user_input.split()]\n",
        "\n",
        "    prime_list = check_prime_numbers(input_list)\n",
        "\n",
        "    print(\"List of prime numbers:\", prime_list)\n",
        "\n",
        "if __name__ == \"__main__\":\n",
        "    main()"
      ]
    },
    {
      "cell_type": "markdown",
      "metadata": {
        "id": "IRyvAo3fomhB"
      },
      "source": [
        "###Q7"
      ]
    },
    {
      "cell_type": "code",
      "execution_count": 12,
      "metadata": {
        "colab": {
          "base_uri": "https://localhost:8080/"
        },
        "id": "y5i0T0RDkzWh",
        "outputId": "71837412-f778-4473-d441-9389f6c40582"
      },
      "outputs": [
        {
          "name": "stdout",
          "output_type": "stream",
          "text": [
            "Enter the list of numbers separated by spaces: 1 2 2 3 3 3\n",
            "The number of times 1 occurs is 1.\n",
            "The number of times 2 occurs is 2.\n",
            "The number of times 3 occurs is 3.\n"
          ]
        }
      ],
      "source": [
        "def count_elements(lst):\n",
        "    element_count = {}\n",
        "    for element in lst:\n",
        "        if element in element_count:\n",
        "            element_count[element] += 1\n",
        "        else:\n",
        "            element_count[element] = 1\n",
        "    return element_count\n",
        "\n",
        "def main():\n",
        "    user_input = input(\"Enter the list of numbers separated by spaces: \")\n",
        "    input_list = [int(num) for num in user_input.split()]\n",
        "\n",
        "    counts = count_elements(input_list)\n",
        "\n",
        "    for element, count in counts.items():\n",
        "        print(f\"The number of times {element} occurs is {count}.\")\n",
        "\n",
        "if __name__ == \"__main__\":\n",
        "    main()\n"
      ]
    },
    {
      "cell_type": "markdown",
      "metadata": {
        "id": "iTVruS-HoobR"
      },
      "source": [
        "###Q8"
      ]
    },
    {
      "cell_type": "code",
      "execution_count": 14,
      "metadata": {
        "colab": {
          "base_uri": "https://localhost:8080/"
        },
        "id": "xMsnrqFalnj-",
        "outputId": "739c202a-5145-4600-abd0-fd39c240f521"
      },
      "outputs": [
        {
          "name": "stdout",
          "output_type": "stream",
          "text": [
            "Word game:\n",
            "Round 1:\tPlayer_1: Rock\t Player_2: Paper\n",
            "Player_2 won!\n",
            "\n",
            "Round 2:\tPlayer_1: Rock\t Player_2: Rock\n",
            "It's a tie!\n",
            "\n",
            "Round 3:\tPlayer_1: Rock\t Player_2: Rock\n",
            "It's a tie!\n",
            "\n",
            "Round 4:\tPlayer_1: Rock\t Player_2: Scissors\n",
            "Player_1 won!\n",
            "\n",
            "Round 5:\tPlayer_1: Paper\t Player_2: Rock\n",
            "Player_1 won!\n",
            "\n",
            "Game Over!!!\tPlayer_1: 2 \t Player_2: 1\n"
          ]
        }
      ],
      "source": [
        "import random\n",
        "\n",
        "class RockPaperScissors:\n",
        "    def __init__(self, rounds):\n",
        "        self.rounds = rounds\n",
        "        self.player1_score = 0\n",
        "        self.player2_score = 0\n",
        "\n",
        "    def play(self):\n",
        "        choices = ['Rock', 'Paper', 'Scissors']\n",
        "\n",
        "        print(\"Word game:\")\n",
        "        for round_num in range(1, self.rounds + 1):\n",
        "            player1_choice = random.choice(choices)\n",
        "            player2_choice = random.choice(choices)\n",
        "\n",
        "            print(f\"Round {round_num}:\\tPlayer_1: {player1_choice}\\t Player_2: {player2_choice}\")\n",
        "\n",
        "            if player1_choice == player2_choice:\n",
        "                print(\"It's a tie!\\n\")\n",
        "            elif (player1_choice == 'Rock' and player2_choice == 'Scissors') or \\\n",
        "                 (player1_choice == 'Paper' and player2_choice == 'Rock') or \\\n",
        "                 (player1_choice == 'Scissors' and player2_choice == 'Paper'):\n",
        "                self.player1_score += 1\n",
        "                print(\"Player_1 won!\\n\")\n",
        "            else:\n",
        "                self.player2_score += 1\n",
        "                print(\"Player_2 won!\\n\")\n",
        "\n",
        "        print(\"Game Over!!!\\tPlayer_1:\", self.player1_score, \"\\t Player_2:\", self.player2_score)\n",
        "\n",
        "p = RockPaperScissors(5)\n",
        "p.play()\n"
      ]
    },
    {
      "cell_type": "markdown",
      "metadata": {
        "id": "C8K-pxgCoqdz"
      },
      "source": [
        "###Q9"
      ]
    },
    {
      "cell_type": "code",
      "execution_count": 15,
      "metadata": {
        "colab": {
          "base_uri": "https://localhost:8080/"
        },
        "id": "44_lRlCInXs_",
        "outputId": "0a146c22-6db9-4a41-9a42-83628e5da075"
      },
      "outputs": [
        {
          "name": "stdout",
          "output_type": "stream",
          "text": [
            "Container:\n",
            "Old Man and the Sea (Ernest Hemingway)\n",
            "Silent Spring (Rachel Carson)\n",
            "Pride and Prejudice (Jane Austen)\n",
            "\n",
            "Shelf:\n",
            "Pride and Prejudice (Jane Austen)\n",
            "Silent Spring (Rachel Carson)\n",
            "Old Man and the Sea (Ernest Hemingway)\n"
          ]
        }
      ],
      "source": [
        "class BookContainer:\n",
        "    def __init__(self):\n",
        "        self.books = []\n",
        "\n",
        "    def add_book(self, title, author):\n",
        "        self.books.append((title, author))\n",
        "\n",
        "    def list_books(self):\n",
        "        for title, author in self.books:\n",
        "            print(f\"{title} ({author})\")\n",
        "\n",
        "\n",
        "class Bookshelf(BookContainer):\n",
        "    def __init__(self):\n",
        "        super().__init__()\n",
        "\n",
        "    def add_book(self, title, author, position):\n",
        "        self.books.insert(position, (title, author))\n",
        "\n",
        "if __name__ == \"__main__\":\n",
        "    container = BookContainer()\n",
        "    container.add_book(\"Old Man and the Sea\", \"Ernest Hemingway\")\n",
        "    container.add_book(\"Silent Spring\", \"Rachel Carson\")\n",
        "    container.add_book(\"Pride and Prejudice\", \"Jane Austen\")\n",
        "\n",
        "    print(\"Container:\")\n",
        "    container.list_books()\n",
        "\n",
        "    shelf = Bookshelf()\n",
        "    shelf.add_book(\"Pride and Prejudice\", \"Jane Austen\", 0)\n",
        "    shelf.add_book(\"Silent Spring\", \"Rachel Carson\", 1)\n",
        "    shelf.add_book(\"Old Man and the Sea\", \"Ernest Hemingway\", 2)\n",
        "\n",
        "    print(\"\\nShelf:\")\n",
        "    shelf.list_books()\n"
      ]
    }
  ],
  "metadata": {
    "colab": {
      "provenance": []
    },
    "kernelspec": {
      "display_name": "Python 3",
      "name": "python3"
    },
    "language_info": {
      "name": "python"
    }
  },
  "nbformat": 4,
  "nbformat_minor": 0
}
