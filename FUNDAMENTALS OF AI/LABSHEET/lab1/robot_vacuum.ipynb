{
  "cells": [
    {
      "cell_type": "markdown",
      "metadata": {
        "id": "_SmqYAuQRIg2"
      },
      "source": [
        "#QUESTION 2: Intelligent Agents: Reflex-Based Agents for the Vacuum-cleaner World\n",
        "\n",
        "\n",
        "\n",
        "Now that you are having a basic knowledge of how the agent must work, recall our discussions regarding the agent types and environment. We will now include the PEAS information and redesign the agent.\n",
        "In this assignment you will implement a simulator environment for an automatic vacuum cleaner robot, a set of different reflex-based agent programs, and perform a comparison study for cleaning a single room. Focus on the __cleaning phase__ which starts when the robot is activated and ends when the last dirty square in the room has been cleaned. Someone else will take care of the agent program needed to navigate back to the charging station after the room is clean.\n",
        "\n",
        "## PEAS description of the cleaning phase\n",
        "\n",
        "__Performance Measure:__ Each action costs 1 energy unit. The performance is measured as the sum of the energy units used to clean the whole room.\n",
        "\n",
        "__Environment:__ A room with $n \\times n$ squares where $n = 5$. Dirt is randomly placed on each square with probability $p = 0.2$. For simplicity, you can assume that the agent knows the size and the layout of the room (i.e., it knows $n$). To start, the agent is placed on a random square.\n",
        "\n",
        "__Actuators:__ The agent can clean the current square (action `suck`) or move to an adjacent square by going `north`, `east`, `south`, or `west`.\n",
        "\n",
        "__Sensors:__ Four bumper sensors, one for north, east, south, and west; a dirt sensor reporting dirt in the current square.  \n",
        "\n",
        "\n",
        "## The agent program for a simple randomized agent\n",
        "\n",
        "The agent program is a function that gets sensor information (the current percepts) as the arguments. The arguments are:\n",
        "\n",
        "* A dictionary with boolean entries for the for bumper sensors `north`, `east`, `west`, `south`. E.g., if the agent is on the north-west corner, `bumpers` will be `{\"north\" : True, \"east\" : False, \"south\" : False, \"west\" : True}`.\n",
        "* The dirt sensor produces a boolean.\n",
        "\n",
        "The agent returns the chosen action as a string.\n",
        "\n",
        "Here is an example implementation for the agent program of a simple randomized agent:  "
      ]
    },
    {
      "cell_type": "code",
      "execution_count": 177,
      "metadata": {
        "id": "fbsBjpwTRIg6"
      },
      "outputs": [],
      "source": [
        "import numpy as np\n",
        "\n",
        "actions = [\"north\", \"east\", \"west\", \"south\", \"suck\"]\n",
        "\n",
        "def simple_randomized_agent(bumpers, dirty):\n",
        "    return np.random.choice(actions)"
      ]
    },
    {
      "cell_type": "code",
      "execution_count": 178,
      "metadata": {
        "id": "GrJ5fA1uRIg8",
        "outputId": "2ca0d036-8cd8-4bbf-a968-e5b7cbaa52b5"
      },
      "outputs": [
        {
          "data": {
            "text/plain": [
              "'west'"
            ]
          },
          "execution_count": 178,
          "metadata": {},
          "output_type": "execute_result"
        }
      ],
      "source": [
        "# define percepts (current location is NW corner and it is dirty)\n",
        "bumpers = {\"north\" : True, \"east\" : False, \"south\" : False, \"west\" : True}\n",
        "dirty = True\n",
        "\n",
        "# call agent program function with percepts and it returns an action\n",
        "simple_randomized_agent(bumpers, dirty)"
      ]
    },
    {
      "cell_type": "markdown",
      "metadata": {
        "id": "TFJ53sPFRIg9"
      },
      "source": [
        "__Note:__ This is not a rational intelligent agent. It ignores its sensors and may bump into a wall repeatedly or not clean a dirty square. You will be asked to implement rational agents below."
      ]
    },
    {
      "cell_type": "markdown",
      "metadata": {
        "id": "V-HnubcwRIg9"
      },
      "source": [
        "## Simple environment example\n",
        "\n",
        "We implement a simple simulation environment that supplies the agent with its percepts.\n",
        "The simple environment is infinite in size (bumpers are always `False`) and every square is always dirty, even if the agent cleans it. The environment function returns a performance measure which is here the number of cleaned squares (since the room is infinite and all squares are constantly dirty, the agent can never clean the whole room as required in the PEAS description above). The energy budget of the agent is specified as `max_steps`."
      ]
    },
    {
      "cell_type": "code",
      "execution_count": 179,
      "metadata": {
        "id": "FWzejLH5RIg9"
      },
      "outputs": [],
      "source": [
        "def simple_environment(agent, max_steps, verbose = True):\n",
        "    num_cleaned = 0\n",
        "\n",
        "    for i in range(max_steps):\n",
        "        dirty = True\n",
        "        bumpers = {\"north\" : False, \"south\" : False, \"west\" : False, \"east\" : False}\n",
        "\n",
        "        action = agent(bumpers, dirty)\n",
        "        print(action)\n",
        "        if (verbose): print(\"step\", i , \"- action:\", action)\n",
        "\n",
        "        if (action == \"suck\"):\n",
        "            num_cleaned = num_cleaned + 1\n",
        "\n",
        "    return num_cleaned\n",
        "\n"
      ]
    },
    {
      "cell_type": "markdown",
      "metadata": {
        "id": "bRZwjISJRIg-"
      },
      "source": [
        "Do one simulation run with a simple randomized agent that has enough energy for 20 steps."
      ]
    },
    {
      "cell_type": "code",
      "execution_count": 180,
      "metadata": {
        "id": "745ouYk8RIg-",
        "outputId": "6b4eacd3-d512-4a85-8fe3-6bc99d7dfde0"
      },
      "outputs": [
        {
          "name": "stdout",
          "output_type": "stream",
          "text": [
            "east\n",
            "step 0 - action: east\n",
            "south\n",
            "step 1 - action: south\n",
            "south\n",
            "step 2 - action: south\n",
            "suck\n",
            "step 3 - action: suck\n",
            "north\n",
            "step 4 - action: north\n",
            "north\n",
            "step 5 - action: north\n",
            "west\n",
            "step 6 - action: west\n",
            "north\n",
            "step 7 - action: north\n",
            "north\n",
            "step 8 - action: north\n",
            "south\n",
            "step 9 - action: south\n",
            "east\n",
            "step 10 - action: east\n",
            "south\n",
            "step 11 - action: south\n",
            "south\n",
            "step 12 - action: south\n",
            "east\n",
            "step 13 - action: east\n",
            "south\n",
            "step 14 - action: south\n",
            "south\n",
            "step 15 - action: south\n",
            "suck\n",
            "step 16 - action: suck\n",
            "suck\n",
            "step 17 - action: suck\n",
            "north\n",
            "step 18 - action: north\n",
            "west\n",
            "step 19 - action: west\n"
          ]
        },
        {
          "data": {
            "text/plain": [
              "3"
            ]
          },
          "execution_count": 180,
          "metadata": {},
          "output_type": "execute_result"
        }
      ],
      "source": [
        "simple_environment(simple_randomized_agent, max_steps = 20)"
      ]
    },
    {
      "cell_type": "markdown",
      "metadata": {
        "id": "Gn0zP6XHRIg-"
      },
      "source": [
        "# Tasks\n",
        "\n",
        "\n",
        "1. Make sure that you use the latest version of this notebook. Sync your forked repository and pull the latest revision.\n",
        "2. Your implementation can use libraries like math, numpy, scipy, but not libraries that implement intelligent agents or complete search algorithms. Try to keep the code simple! In this course, we want to learn about the algorithms and we often do not need to use object-oriented design.\n",
        "3. You notebook needs to be formatted professionally.\n",
        "    - Add additional markdown blocks for your description, comments in the code, add tables and use mathplotlib to produce charts where appropriate\n",
        "    - Do not show debugging output or include an excessive amount of output.\n",
        "    - Check that your PDF file is readable. For example, long lines are cut off in the PDF file. You don't have control over page breaks, so do not worry about these.\n",
        "4. Document your code. Add a short discussion of how your implementation works and your design choices.\n",
        "\n",
        "\n",
        "## Task 1: Implement a simulation environment\n",
        "\n",
        "The simple environment above is not very realistic. Your environment simulator needs to follow the PEAS description from above. It needs to:\n",
        "\n",
        "* Initialize the environment by storing the state of each square (clean/dirty) and making some dirty.\n",
        "* Keep track of the agent's position.\n",
        "* Call the agent function repeatedly and provide the agent function with the sensor inputs.  \n",
        "* React to the agent's actions. E.g, by removing dirt from a square or moving the agent around unless there is a wall in the way.\n",
        "* Keep track of the performance measure. That is, track the agent's actions until all dirty squares are clean and count the number of actions it takes the agent to complete the task.\n",
        "\n",
        "The easiest implementation for the environment is to hold an 2-dimensional array to represent if squares are clean or dirty and to call the agent function in a loop until all squares are clean or a predefined number of steps have been reached (i.e., the robot runs out of energy).\n",
        "\n",
        "The simulation environment should be a function like the `simple_environment()` and needs to work with the simple randomized agent program from above. **Use the same environment for all your agent implementations in the tasks below.**\n",
        "\n",
        "*Note on debugging:* Debugging is difficult. Make sure your environment prints enough information when you use `verbose = True`. Also, implementing a function that the environment can use to displays the room with dirt and the current position of the robot at every step is very useful.  "
      ]
    },
    {
      "cell_type": "code",
      "execution_count": 181,
      "metadata": {},
      "outputs": [
        {
          "name": "stdout",
          "output_type": "stream",
          "text": [
            "1 0 0 0 1 \n",
            "0 1 0 0 1 \n",
            "0 0 0 1 1 \n",
            "0 0 1 0 1 \n",
            "1 0 0 0 1 \n"
          ]
        }
      ],
      "source": [
        "import random\n",
        "def create_5x5_matrix(): # randomly define clean and dirty square\n",
        "    matrix = [[random.randint(0,1) for _ in range(5)] for _ in range(5)]\n",
        "    return matrix\n",
        "\n",
        "# Creating a 5x5 matrix of '0 and 1' using [][] notation\n",
        "five_by_five_matrix = create_5x5_matrix()\n",
        "\n",
        "# Displaying the 5x5 matrix using [][] notation\n",
        "for i in range(5):\n",
        "    for j in range(5):\n",
        "        print(five_by_five_matrix[i][j], end=' ')\n",
        "    print()\n"
      ]
    },
    {
      "cell_type": "code",
      "execution_count": 182,
      "metadata": {},
      "outputs": [],
      "source": [
        "# agent psoition\n",
        "agent_x_pos, agent_y_pos = 0,0"
      ]
    },
    {
      "cell_type": "code",
      "execution_count": 183,
      "metadata": {},
      "outputs": [
        {
          "data": {
            "text/plain": [
              "10"
            ]
          },
          "execution_count": 183,
          "metadata": {},
          "output_type": "execute_result"
        }
      ],
      "source": [
        "dirty_squares = sum(row.count(1) for row in five_by_five_matrix)  # Counting initial dirty squares\n",
        "actions_taken = 0  # Initializing actions counter\n",
        "dirty_squares"
      ]
    },
    {
      "cell_type": "code",
      "execution_count": 184,
      "metadata": {},
      "outputs": [],
      "source": [
        "# Function to check if all squares are clean\n",
        "def all_clean(matrix):\n",
        "    return all(all(square == 0 for square in row) for row in matrix)\n"
      ]
    },
    {
      "cell_type": "code",
      "execution_count": 185,
      "metadata": {},
      "outputs": [],
      "source": [
        "# Agent function\n",
        "def simple_environment1(matrix, max_steps):\n",
        "    global actions_taken\n",
        "    x=y=0\n",
        "    steps = 0\n",
        "    direction = 1\n",
        "    # Display current matrix\n",
        "    print(\"\\nCurrent Matrix:\")\n",
        "\n",
        "    # Perform actions until all squares are clean\n",
        "    while not all_clean(matrix):\n",
        "        if((max_steps==steps)):\n",
        "            print(\"Max energy comnsumed  Out of Energy \")\n",
        "            break\n",
        "\n",
        "        # Check and clean the current square if dirty\n",
        "        # Cleaning the current square if dirty\n",
        "        if matrix[x][y] == 1:\n",
        "            matrix[x][y] = 0\n",
        "            print(f\"Cleaning square at position ({x}, {y})\")\n",
        "            actions_taken += 1\n",
        "        \n",
        "        # Check if all squares are clean after each action\n",
        "        if all_clean(matrix):\n",
        "            print(\"\\nAll squares cleaned!\")\n",
        "            break\n",
        "\n",
        "        if x == 4 and y == 4:  # Break loop when reaching the last square\n",
        "            break\n",
        "        # Move to a new position in an 'S' shape pattern\n",
        "        if x % 2 == 0:  # Moving right on even rows\n",
        "            if 0 <= y + direction < 5:  # Check boundary condition\n",
        "                y += direction\n",
        "                steps += 1\n",
        "                print(f\"Moving right to position ({x}, {y})\")\n",
        "            else:\n",
        "                x += 1\n",
        "                steps += 1\n",
        "                print(f\"Moving down to position ({x}, {y})\")\n",
        "        else:  # Moving left on odd rows\n",
        "            if 0 <= y - direction < 5:  # Check boundary condition\n",
        "                y -= direction\n",
        "                steps += 1\n",
        "                print(f\"Moving left to position ({x}, {y})\")\n",
        "            else:\n",
        "                x += 1\n",
        "                steps += 1\n",
        "                print(f\"Moving down to position ({x}, {y})\")\n",
        "\n",
        "    print(f\"Total actions taken: {actions_taken}\")\n",
        "\n"
      ]
    },
    {
      "cell_type": "code",
      "execution_count": 186,
      "metadata": {},
      "outputs": [],
      "source": [
        "# Taking the energy count suppose one step costs 1 unit of energy\n",
        "max_steps=int(input(\"Enter the max energy of the device : \"))"
      ]
    },
    {
      "cell_type": "code",
      "execution_count": 187,
      "metadata": {},
      "outputs": [
        {
          "name": "stdout",
          "output_type": "stream",
          "text": [
            "\n",
            "Current Matrix:\n",
            "Cleaning square at position (0, 0)\n",
            "Moving right to position (0, 1)\n",
            "Moving right to position (0, 2)\n",
            "Moving right to position (0, 3)\n",
            "Moving right to position (0, 4)\n",
            "Cleaning square at position (0, 4)\n",
            "Moving down to position (1, 4)\n",
            "Cleaning square at position (1, 4)\n",
            "Moving left to position (1, 3)\n",
            "Moving left to position (1, 2)\n",
            "Moving left to position (1, 1)\n",
            "Cleaning square at position (1, 1)\n",
            "Moving left to position (1, 0)\n",
            "Moving down to position (2, 0)\n",
            "Moving right to position (2, 1)\n",
            "Moving right to position (2, 2)\n",
            "Moving right to position (2, 3)\n",
            "Cleaning square at position (2, 3)\n",
            "Moving right to position (2, 4)\n",
            "Cleaning square at position (2, 4)\n",
            "Moving down to position (3, 4)\n",
            "Cleaning square at position (3, 4)\n",
            "Moving left to position (3, 3)\n",
            "Moving left to position (3, 2)\n",
            "Cleaning square at position (3, 2)\n",
            "Moving left to position (3, 1)\n",
            "Moving left to position (3, 0)\n",
            "Moving down to position (4, 0)\n",
            "Cleaning square at position (4, 0)\n",
            "Moving right to position (4, 1)\n",
            "Moving right to position (4, 2)\n",
            "Moving right to position (4, 3)\n",
            "Moving right to position (4, 4)\n",
            "Cleaning square at position (4, 4)\n",
            "\n",
            "All squares cleaned!\n",
            "Total actions taken: 10\n"
          ]
        }
      ],
      "source": [
        "# Call the agent function\n",
        "simple_environment1(five_by_five_matrix,max_steps)"
      ]
    },
    {
      "cell_type": "markdown",
      "metadata": {
        "id": "7y69fDfDRIg_"
      },
      "source": [
        "\n",
        "\n",
        "The simple reflex agent randomly walks around but reacts to the bumper sensor by not bumping into the wall and to dirt with sucking. Implement the agent program as a function.\n",
        "\n",
        "_Note:_ Agents cannot directly use variable in the environment. They only gets the percepts as the arguments to the agent function."
      ]
    }
  ],
  "metadata": {
    "colab": {
      "provenance": []
    },
    "kernelspec": {
      "display_name": "Python 3 (ipykernel)",
      "language": "python",
      "name": "python3"
    },
    "language_info": {
      "codemirror_mode": {
        "name": "ipython",
        "version": 3
      },
      "file_extension": ".py",
      "mimetype": "text/x-python",
      "name": "python",
      "nbconvert_exporter": "python",
      "pygments_lexer": "ipython3",
      "version": "3.12.0"
    },
    "toc-autonumbering": false
  },
  "nbformat": 4,
  "nbformat_minor": 0
}
