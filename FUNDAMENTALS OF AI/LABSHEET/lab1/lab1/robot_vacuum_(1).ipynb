{
  "cells": [
    {
      "cell_type": "markdown",
      "metadata": {
        "id": "_SmqYAuQRIg2"
      },
      "source": [
        "#QUESTION 2: Intelligent Agents: Reflex-Based Agents for the Vacuum-cleaner World\n",
        "\n",
        "\n",
        "\n",
        "Now that you are having a basic knowledge of how the agent must work, recall our discussions regarding the agent types and environment. We will now include the PEAS information and redesign the agent.\n",
        "In this assignment you will implement a simulator environment for an automatic vacuum cleaner robot, a set of different reflex-based agent programs, and perform a comparison study for cleaning a single room. Focus on the __cleaning phase__ which starts when the robot is activated and ends when the last dirty square in the room has been cleaned. Someone else will take care of the agent program needed to navigate back to the charging station after the room is clean.\n",
        "\n",
        "## PEAS description of the cleaning phase\n",
        "\n",
        "__Performance Measure:__ Each action costs 1 energy unit. The performance is measured as the sum of the energy units used to clean the whole room.\n",
        "\n",
        "__Environment:__ A room with $n \\times n$ squares where $n = 5$. Dirt is randomly placed on each square with probability $p = 0.2$. For simplicity, you can assume that the agent knows the size and the layout of the room (i.e., it knows $n$). To start, the agent is placed on a random square.\n",
        "\n",
        "__Actuators:__ The agent can clean the current square (action `suck`) or move to an adjacent square by going `north`, `east`, `south`, or `west`.\n",
        "\n",
        "__Sensors:__ Four bumper sensors, one for north, east, south, and west; a dirt sensor reporting dirt in the current square.  \n",
        "\n",
        "\n",
        "## The agent program for a simple randomized agent\n",
        "\n",
        "The agent program is a function that gets sensor information (the current percepts) as the arguments. The arguments are:\n",
        "\n",
        "* A dictionary with boolean entries for the for bumper sensors `north`, `east`, `west`, `south`. E.g., if the agent is on the north-west corner, `bumpers` will be `{\"north\" : True, \"east\" : False, \"south\" : False, \"west\" : True}`.\n",
        "* The dirt sensor produces a boolean.\n",
        "\n",
        "The agent returns the chosen action as a string.\n",
        "\n",
        "Here is an example implementation for the agent program of a simple randomized agent:  "
      ]
    },
    {
      "cell_type": "code",
      "execution_count": 1,
      "metadata": {
        "id": "fbsBjpwTRIg6"
      },
      "outputs": [],
      "source": [
        "import numpy as np\n",
        "\n",
        "actions = [\"north\", \"east\", \"west\", \"south\", \"suck\"]\n",
        "\n",
        "def simple_randomized_agent(bumpers, dirty):\n",
        "    return np.random.choice(actions)"
      ]
    },
    {
      "cell_type": "code",
      "execution_count": 2,
      "metadata": {
        "colab": {
          "base_uri": "https://localhost:8080/",
          "height": 36
        },
        "id": "GrJ5fA1uRIg8",
        "outputId": "a2df9e1d-e359-4225-bde8-70c97a560224"
      },
      "outputs": [
        {
          "data": {
            "text/plain": [
              "'west'"
            ]
          },
          "execution_count": 2,
          "metadata": {},
          "output_type": "execute_result"
        }
      ],
      "source": [
        "# define percepts (current location is NW corner and it is dirty)\n",
        "bumpers = {\"north\" : True, \"east\" : False, \"south\" : False, \"west\" : True}\n",
        "dirty = True\n",
        "\n",
        "# call agent program function with percepts and it returns an action\n",
        "simple_randomized_agent(bumpers, dirty)"
      ]
    },
    {
      "cell_type": "markdown",
      "metadata": {
        "id": "TFJ53sPFRIg9"
      },
      "source": [
        "__Note:__ This is not a rational intelligent agent. It ignores its sensors and may bump into a wall repeatedly or not clean a dirty square. You will be asked to implement rational agents below."
      ]
    },
    {
      "cell_type": "markdown",
      "metadata": {
        "id": "V-HnubcwRIg9"
      },
      "source": [
        "## Simple environment example\n",
        "\n",
        "We implement a simple simulation environment that supplies the agent with its percepts.\n",
        "The simple environment is infinite in size (bumpers are always `False`) and every square is always dirty, even if the agent cleans it. The environment function returns a performance measure which is here the number of cleaned squares (since the room is infinite and all squares are constantly dirty, the agent can never clean the whole room as required in the PEAS description above). The energy budget of the agent is specified as `max_steps`."
      ]
    },
    {
      "cell_type": "code",
      "execution_count": 3,
      "metadata": {
        "id": "FWzejLH5RIg9"
      },
      "outputs": [],
      "source": [
        "def simple_environment(agent, max_steps, verbose = True):\n",
        "    num_cleaned = 0\n",
        "\n",
        "    for i in range(max_steps):\n",
        "        dirty = True\n",
        "        bumpers = {\"north\" : False, \"south\" : False, \"west\" : False, \"east\" : False}\n",
        "\n",
        "        action = agent(bumpers, dirty)\n",
        "        if (verbose): print(\"step\", i , \"- action:\", action)\n",
        "\n",
        "        if (action == \"suck\"):\n",
        "            num_cleaned = num_cleaned + 1\n",
        "\n",
        "    return num_cleaned\n",
        "\n"
      ]
    },
    {
      "cell_type": "markdown",
      "metadata": {
        "id": "bRZwjISJRIg-"
      },
      "source": [
        "Do one simulation run with a simple randomized agent that has enough energy for 20 steps."
      ]
    },
    {
      "cell_type": "code",
      "execution_count": 4,
      "metadata": {
        "colab": {
          "base_uri": "https://localhost:8080/"
        },
        "id": "745ouYk8RIg-",
        "outputId": "7c5c1182-c2ca-4586-83be-9ae2af07ba03"
      },
      "outputs": [
        {
          "name": "stdout",
          "output_type": "stream",
          "text": [
            "step 0 - action: west\n",
            "step 1 - action: south\n",
            "step 2 - action: south\n",
            "step 3 - action: east\n",
            "step 4 - action: north\n",
            "step 5 - action: south\n",
            "step 6 - action: south\n",
            "step 7 - action: east\n",
            "step 8 - action: south\n",
            "step 9 - action: north\n",
            "step 10 - action: north\n",
            "step 11 - action: east\n",
            "step 12 - action: west\n",
            "step 13 - action: suck\n",
            "step 14 - action: south\n",
            "step 15 - action: west\n",
            "step 16 - action: suck\n",
            "step 17 - action: suck\n",
            "step 18 - action: north\n",
            "step 19 - action: north\n"
          ]
        },
        {
          "data": {
            "text/plain": [
              "3"
            ]
          },
          "execution_count": 4,
          "metadata": {},
          "output_type": "execute_result"
        }
      ],
      "source": [
        "simple_environment(simple_randomized_agent, max_steps = 20)"
      ]
    },
    {
      "cell_type": "markdown",
      "metadata": {
        "id": "Gn0zP6XHRIg-"
      },
      "source": [
        "# Tasks\n",
        "\n",
        "\n",
        "1. Make sure that you use the latest version of this notebook. Sync your forked repository and pull the latest revision.\n",
        "2. Your implementation can use libraries like math, numpy, scipy, but not libraries that implement intelligent agents or complete search algorithms. Try to keep the code simple! In this course, we want to learn about the algorithms and we often do not need to use object-oriented design.\n",
        "3. You notebook needs to be formatted professionally.\n",
        "    - Add additional markdown blocks for your description, comments in the code, add tables and use mathplotlib to produce charts where appropriate\n",
        "    - Do not show debugging output or include an excessive amount of output.\n",
        "    - Check that your PDF file is readable. For example, long lines are cut off in the PDF file. You don't have control over page breaks, so do not worry about these.\n",
        "4. Document your code. Add a short discussion of how your implementation works and your design choices.\n",
        "\n",
        "\n",
        "## Task 1: Implement a simulation environment\n",
        "\n",
        "The simple environment above is not very realistic. Your environment simulator needs to follow the PEAS description from above. It needs to:\n",
        "\n",
        "* Initialize the environment by storing the state of each square (clean/dirty) and making some dirty.\n",
        "* Keep track of the agent's position.\n",
        "* Call the agent function repeatedly and provide the agent function with the sensor inputs.  \n",
        "* React to the agent's actions. E.g, by removing dirt from a square or moving the agent around unless there is a wall in the way.\n",
        "* Keep track of the performance measure. That is, track the agent's actions until all dirty squares are clean and count the number of actions it takes the agent to complete the task.\n",
        "\n",
        "The easiest implementation for the environment is to hold an 2-dimensional array to represent if squares are clean or dirty and to call the agent function in a loop until all squares are clean or a predefined number of steps have been reached (i.e., the robot runs out of energy).\n",
        "\n",
        "The simulation environment should be a function like the `simple_environment()` and needs to work with the simple randomized agent program from above. **Use the same environment for all your agent implementations in the tasks below.**\n",
        "\n",
        "*Note on debugging:* Debugging is difficult. Make sure your environment prints enough information when you use `verbose = True`. Also, implementing a function that the environment can use to displays the room with dirt and the current position of the robot at every step is very useful.  "
      ]
    },
    {
      "cell_type": "code",
      "execution_count": 5,
      "metadata": {
        "id": "PmA1MW7QJPzd"
      },
      "outputs": [],
      "source": [
        "import random\n",
        "import numpy"
      ]
    },
    {
      "cell_type": "code",
      "execution_count": 13,
      "metadata": {
        "colab": {
          "base_uri": "https://localhost:8080/"
        },
        "id": "IodK7cWwRIg_",
        "outputId": "5d8da154-c23d-4de7-fc7b-9ad52424f035"
      },
      "outputs": [
        {
          "name": "stdout",
          "output_type": "stream",
          "text": [
            "Vaccum Location: None\n",
            "Condition Matrix:\n",
            "[[10  1  0  1  0]\n",
            " [10  1  0  1  0]\n",
            " [10  1  0  1  0]\n",
            " [10  1  0  1  0]\n",
            " [10  1  0  1  0]]\n"
          ]
        }
      ],
      "source": [
        "class Environment():\n",
        "  def __init__(self):\n",
        "    self.condition = [[0]*5]*5\n",
        "    for i in range(5):\n",
        "      for j in range(5):\n",
        "        self.condition[i][j] = int(input(f\"Enter the condition of the ({i}, {j})th cell: \"))\n",
        "    self.location = None\n",
        "\n",
        "  def __str__(self):\n",
        "    mat = numpy.array(self.condition)\n",
        "    return \"Vaccum Location: \" + str(self.location) + \"\\nCondition Matrix:\\n\" + str(mat)\n",
        "\n",
        "  def isClean(self):\n",
        "    full_clean = numpy.zeros((5, 5))\n",
        "    return numpy.array_equal(self.condition, full_clean)\n",
        "\n",
        "env = Environment()\n",
        "print(env)"
      ]
    },
    {
      "cell_type": "code",
      "execution_count": 7,
      "metadata": {
        "colab": {
          "base_uri": "https://localhost:8080/"
        },
        "id": "KOzDe7s3wBWY",
        "outputId": "a00d1878-3110-48d5-ba9c-7d3a6ec3ab82"
      },
      "outputs": [
        {
          "data": {
            "text/plain": [
              "True"
            ]
          },
          "execution_count": 7,
          "metadata": {},
          "output_type": "execute_result"
        }
      ],
      "source": [
        "z = numpy.zeros((5, 5))\n",
        "mat = [[0, 0, 0, 0, 0], [0, 0, 0, 0, 0], [0, 0, 0, 0, 0], [0, 0, 0, 0, 0], [0, 0, 0, 0, 0]]\n",
        "numpy.array_equal(z, mat)"
      ]
    },
    {
      "cell_type": "code",
      "execution_count": 8,
      "metadata": {
        "id": "2EdYUU-Kkunl"
      },
      "outputs": [],
      "source": [
        "# The code represents a basic agent\n",
        "# The agent's input is only based on sensor readings, and it heavily prioritizes their activation\n",
        "# this agent lacks the capability to learn path optimization or cost optimization\n",
        "def Agent(bumpers, dirty):\n",
        "  actions = [\"North\", \"East\", \"West\", \"South\"]\n",
        "  if dirty:\n",
        "    return \"Clean\"\n",
        "  Action = random.choice(actions)\n",
        "  while bumpers[Action] == True:\n",
        "    Action = random.choice(actions)\n",
        "  return Action"
      ]
    },
    {
      "cell_type": "code",
      "execution_count": 9,
      "metadata": {
        "id": "Uod6DSfX6ggW"
      },
      "outputs": [],
      "source": [
        "#Avoid revisiting cells that have already been cleaned or traversed.\n",
        "# Mark each visited cell to keep track of the agent's path.\n",
        "#If revisiting a previous cell becomes necessary, consider reducing the associated cost.\n",
        "def Intelligent_Agent(bumpers, dirty, Environment):\n",
        "  actions = [\"North\", \"East\", \"West\", \"South\"]\n",
        "  if dirty:\n",
        "    return \"Clean\"\n",
        "  Action = \"North\"\n",
        "  return Action"
      ]
    },
    {
      "cell_type": "code",
      "execution_count": 10,
      "metadata": {},
      "outputs": [],
      "source": [
        "def percept(environment):\n",
        "    bumpers = {}\n",
        "    location = environment.location\n",
        "    is_dirty = environment.condition[location[0]][location[1]]\n",
        "    bumpers[\"North\"] = not bool(location[0])\n",
        "    bumpers[\"West\"] = not bool(location[1])\n",
        "    bumpers[\"East\"] = not bool(4 - location[1])\n",
        "    bumpers[\"South\"] = not bool(4 - location[0])\n",
        "    return is_dirty, bumpers\n",
        "\n",
        "def effectors(environment, action):\n",
        "    location = environment.location\n",
        "    if action == \"Clean\":\n",
        "        print(f\"Location ({location[0]}, {location[1]}) is dirty.\")\n",
        "        environment.condition[location[0]][location[1]] = 0\n",
        "        print(f\"Location ({location[0]}, {location[1]}) has been cleaned.\")\n",
        "    elif action == \"North\":\n",
        "        print(f\"Moving North - ({location[0]-1}, {location[1]})\")\n",
        "        environment.location[0] -= 1\n",
        "    elif action == \"East\":\n",
        "        print(f\"Moving East - ({location[0]}, {location[1]+1})\")\n",
        "        environment.location[1] += 1\n",
        "    elif action == \"West\":\n",
        "        print(f\"Moving West - ({location[0]}, {location[1]-1})\")\n",
        "        environment.location[1] -= 1\n",
        "    else:\n",
        "        print(f\"Moving South - ({location[0]+1}, {location[1]})\")\n",
        "        environment.location[0] += 1"
      ]
    },
    {
      "cell_type": "code",
      "execution_count": 11,
      "metadata": {
        "id": "C2B3wB1cleZd"
      },
      "outputs": [],
      "source": [
        "#Randomly select a starting position for the agent\n",
        "#Set the initial location of the agent in the environmen\n",
        "#Get initial percept information (dirty cells and bumpers)\n",
        "#Get the agent's action based on the current percept\n",
        "#Perform the selected action and update the environment\n",
        "\n",
        "def Agent_program(agent, environment, max_steps, verbose=False):\n",
        "    start_position = [random.randint(0, 4), random.randint(0, 4)]\n",
        "    cleaned_cells = 0\n",
        "    environment.location = start_position\n",
        "    dirty, bumpers = percept(environment)\n",
        "    print(environment)\n",
        "    for step in range(max_steps):\n",
        "        dirty, bumpers = percept(environment)\n",
        "        action = agent(bumpers, dirty)\n",
        "        if action == \"Clean\":\n",
        "            cleaned_cells += 1\n",
        "        effectors(environment, action)\n",
        "        if environment.isClean():\n",
        "            print(\"Environment is clean\")\n",
        "            break\n",
        "        if verbose:\n",
        "            print(environment)\n",
        "\n",
        "    print(\"Cells Cleaned:\", cleaned_cells)"
      ]
    },
    {
      "cell_type": "markdown",
      "metadata": {
        "id": "7y69fDfDRIg_"
      },
      "source": [
        "\n",
        "\n",
        "The simple reflex agent randomly walks around but reacts to the bumper sensor by not bumping into the wall and to dirt with sucking. Implement the agent program as a function.\n",
        "\n",
        "_Note:_ Agents cannot directly use variable in the environment. They only gets the percepts as the arguments to the agent function."
      ]
    },
    {
      "cell_type": "code",
      "execution_count": 12,
      "metadata": {
        "colab": {
          "base_uri": "https://localhost:8080/"
        },
        "id": "9wDuWkfpjr0-",
        "outputId": "3dc4a0e1-48ff-4ec2-bfb4-03c3d86bff7d"
      },
      "outputs": [
        {
          "name": "stdout",
          "output_type": "stream",
          "text": [
            "Vaccum Location: [1, 1]\n",
            "Condition Matrix:\n",
            "[[0 0 1 1 0]\n",
            " [0 1 0 1 0]\n",
            " [1 0 1 1 0]\n",
            " [1 1 0 0 0]\n",
            " [1 0 0 0 1]]\n",
            "Location (1, 1) is dirty.\n",
            "Location (1, 1) has been cleaned.\n",
            "Moving West - (1, 0)\n",
            "Moving North - (0, 0)\n",
            "Moving South - (1, 0)\n",
            "Moving North - (0, 0)\n",
            "Moving South - (1, 0)\n",
            "Moving East - (1, 1)\n",
            "Moving East - (1, 2)\n",
            "Moving East - (1, 3)\n",
            "Location (1, 3) is dirty.\n",
            "Location (1, 3) has been cleaned.\n",
            "Moving East - (1, 4)\n",
            "Moving West - (1, 3)\n",
            "Moving East - (1, 4)\n",
            "Moving North - (0, 4)\n",
            "Moving West - (0, 3)\n",
            "Location (0, 3) is dirty.\n",
            "Location (0, 3) has been cleaned.\n",
            "Moving West - (0, 2)\n",
            "Location (0, 2) is dirty.\n",
            "Location (0, 2) has been cleaned.\n",
            "Moving South - (1, 2)\n",
            "Moving West - (1, 1)\n",
            "Moving East - (1, 2)\n",
            "Moving East - (1, 3)\n",
            "Moving East - (1, 4)\n",
            "Moving West - (1, 3)\n",
            "Moving East - (1, 4)\n",
            "Moving North - (0, 4)\n",
            "Moving West - (0, 3)\n",
            "Moving South - (1, 3)\n",
            "Moving West - (1, 2)\n",
            "Moving South - (2, 2)\n",
            "Location (2, 2) is dirty.\n",
            "Location (2, 2) has been cleaned.\n",
            "Moving South - (3, 2)\n",
            "Moving North - (2, 2)\n",
            "Moving West - (2, 1)\n",
            "Moving West - (2, 0)\n",
            "Location (2, 0) is dirty.\n",
            "Location (2, 0) has been cleaned.\n",
            "Moving South - (3, 0)\n",
            "Location (3, 0) is dirty.\n",
            "Location (3, 0) has been cleaned.\n",
            "Moving North - (2, 0)\n",
            "Moving South - (3, 0)\n",
            "Moving East - (3, 1)\n",
            "Location (3, 1) is dirty.\n",
            "Location (3, 1) has been cleaned.\n",
            "Moving North - (2, 1)\n",
            "Moving North - (1, 1)\n",
            "Moving West - (1, 0)\n",
            "Moving North - (0, 0)\n",
            "Moving South - (1, 0)\n",
            "Moving South - (2, 0)\n",
            "Moving East - (2, 1)\n",
            "Moving West - (2, 0)\n",
            "Moving South - (3, 0)\n",
            "Moving East - (3, 1)\n",
            "Moving West - (3, 0)\n",
            "Moving East - (3, 1)\n",
            "Moving South - (4, 1)\n",
            "Moving East - (4, 2)\n",
            "Moving East - (4, 3)\n",
            "Moving North - (3, 3)\n",
            "Moving East - (3, 4)\n",
            "Moving South - (4, 4)\n",
            "Location (4, 4) is dirty.\n",
            "Location (4, 4) has been cleaned.\n",
            "Moving West - (4, 3)\n",
            "Moving East - (4, 4)\n",
            "Moving West - (4, 3)\n",
            "Moving North - (3, 3)\n",
            "Moving North - (2, 3)\n",
            "Location (2, 3) is dirty.\n",
            "Location (2, 3) has been cleaned.\n",
            "Moving East - (2, 4)\n",
            "Moving West - (2, 3)\n",
            "Moving South - (3, 3)\n",
            "Moving North - (2, 3)\n",
            "Moving West - (2, 2)\n",
            "Moving East - (2, 3)\n",
            "Moving South - (3, 3)\n",
            "Moving East - (3, 4)\n",
            "Moving North - (2, 4)\n",
            "Moving South - (3, 4)\n",
            "Moving North - (2, 4)\n",
            "Moving South - (3, 4)\n",
            "Moving West - (3, 3)\n",
            "Moving West - (3, 2)\n",
            "Moving North - (2, 2)\n",
            "Moving East - (2, 3)\n",
            "Moving West - (2, 2)\n",
            "Moving West - (2, 1)\n",
            "Moving East - (2, 2)\n",
            "Moving South - (3, 2)\n",
            "Moving South - (4, 2)\n",
            "Moving East - (4, 3)\n",
            "Moving North - (3, 3)\n",
            "Moving South - (4, 3)\n",
            "Moving North - (3, 3)\n",
            "Moving South - (4, 3)\n",
            "Moving North - (3, 3)\n",
            "Moving East - (3, 4)\n",
            "Moving South - (4, 4)\n",
            "Moving West - (4, 3)\n",
            "Moving West - (4, 2)\n",
            "Moving East - (4, 3)\n",
            "Moving West - (4, 2)\n",
            "Moving West - (4, 1)\n",
            "Moving North - (3, 1)\n",
            "Moving North - (2, 1)\n",
            "Moving East - (2, 2)\n",
            "Moving South - (3, 2)\n",
            "Moving East - (3, 3)\n",
            "Moving South - (4, 3)\n",
            "Moving East - (4, 4)\n",
            "Moving West - (4, 3)\n",
            "Moving North - (3, 3)\n",
            "Moving North - (2, 3)\n",
            "Moving North - (1, 3)\n",
            "Moving North - (0, 3)\n",
            "Moving East - (0, 4)\n",
            "Moving South - (1, 4)\n",
            "Moving North - (0, 4)\n",
            "Moving West - (0, 3)\n",
            "Moving South - (1, 3)\n",
            "Moving South - (2, 3)\n",
            "Moving South - (3, 3)\n",
            "Moving East - (3, 4)\n",
            "Moving West - (3, 3)\n",
            "Moving North - (2, 3)\n",
            "Moving South - (3, 3)\n",
            "Moving North - (2, 3)\n",
            "Moving West - (2, 2)\n",
            "Moving North - (1, 2)\n",
            "Moving North - (0, 2)\n",
            "Moving West - (0, 1)\n",
            "Moving West - (0, 0)\n",
            "Moving East - (0, 1)\n",
            "Moving West - (0, 0)\n",
            "Moving South - (1, 0)\n",
            "Moving North - (0, 0)\n",
            "Moving South - (1, 0)\n",
            "Moving East - (1, 1)\n",
            "Moving East - (1, 2)\n",
            "Moving East - (1, 3)\n",
            "Moving East - (1, 4)\n",
            "Moving South - (2, 4)\n",
            "Moving South - (3, 4)\n",
            "Moving North - (2, 4)\n",
            "Moving South - (3, 4)\n",
            "Moving West - (3, 3)\n",
            "Moving West - (3, 2)\n",
            "Moving North - (2, 2)\n",
            "Moving East - (2, 3)\n",
            "Moving South - (3, 3)\n",
            "Moving South - (4, 3)\n",
            "Moving North - (3, 3)\n",
            "Moving West - (3, 2)\n",
            "Moving East - (3, 3)\n",
            "Moving North - (2, 3)\n",
            "Moving South - (3, 3)\n",
            "Moving East - (3, 4)\n",
            "Moving North - (2, 4)\n",
            "Moving North - (1, 4)\n",
            "Moving West - (1, 3)\n",
            "Moving West - (1, 2)\n",
            "Moving South - (2, 2)\n",
            "Moving East - (2, 3)\n",
            "Moving North - (1, 3)\n",
            "Moving South - (2, 3)\n",
            "Moving South - (3, 3)\n",
            "Moving North - (2, 3)\n",
            "Moving North - (1, 3)\n",
            "Moving North - (0, 3)\n",
            "Moving West - (0, 2)\n",
            "Moving East - (0, 3)\n",
            "Moving South - (1, 3)\n",
            "Moving East - (1, 4)\n",
            "Moving West - (1, 3)\n",
            "Moving North - (0, 3)\n",
            "Moving South - (1, 3)\n",
            "Moving West - (1, 2)\n",
            "Moving West - (1, 1)\n",
            "Moving West - (1, 0)\n",
            "Moving North - (0, 0)\n",
            "Moving East - (0, 1)\n",
            "Moving East - (0, 2)\n",
            "Moving East - (0, 3)\n",
            "Moving East - (0, 4)\n",
            "Moving West - (0, 3)\n",
            "Moving South - (1, 3)\n",
            "Moving East - (1, 4)\n",
            "Moving North - (0, 4)\n",
            "Moving West - (0, 3)\n",
            "Moving East - (0, 4)\n",
            "Moving South - (1, 4)\n",
            "Moving South - (2, 4)\n",
            "Moving South - (3, 4)\n",
            "Moving North - (2, 4)\n",
            "Moving South - (3, 4)\n",
            "Moving South - (4, 4)\n",
            "Moving West - (4, 3)\n",
            "Moving East - (4, 4)\n",
            "Moving West - (4, 3)\n",
            "Moving North - (3, 3)\n",
            "Moving West - (3, 2)\n",
            "Moving North - (2, 2)\n",
            "Moving West - (2, 1)\n",
            "Moving East - (2, 2)\n",
            "Moving South - (3, 2)\n",
            "Moving West - (3, 1)\n",
            "Moving East - (3, 2)\n",
            "Moving South - (4, 2)\n",
            "Moving West - (4, 1)\n",
            "Moving West - (4, 0)\n",
            "Location (4, 0) is dirty.\n",
            "Location (4, 0) has been cleaned.\n",
            "Environment is clean\n",
            "Cells Cleaned: 11\n"
          ]
        }
      ],
      "source": [
        "env = Environment()\n",
        "Agent_program(Agent, env, 500)"
      ]
    }
  ],
  "metadata": {
    "colab": {
      "provenance": []
    },
    "kernelspec": {
      "display_name": "Python 3 (ipykernel)",
      "language": "python",
      "name": "python3"
    },
    "language_info": {
      "codemirror_mode": {
        "name": "ipython",
        "version": 3
      },
      "file_extension": ".py",
      "mimetype": "text/x-python",
      "name": "python",
      "nbconvert_exporter": "python",
      "pygments_lexer": "ipython3",
      "version": "3.11.2"
    },
    "toc-autonumbering": false
  },
  "nbformat": 4,
  "nbformat_minor": 0
}
