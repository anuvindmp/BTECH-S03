{
  "cells": [
    {
      "cell_type": "markdown",
      "metadata": {
        "id": "uEYN6B38Xbau"
      },
      "source": [
        "This is a short automated vaccum cleaner agent code. There is no need to give any input from the user. It understands the envirnoment and takes the decision.Can run in any python environment such as Jupyter Notebook, Google Colab, PyCharm, etc"
      ]
    },
    {
      "cell_type": "code",
      "execution_count": 6,
      "metadata": {
        "colab": {
          "base_uri": "https://localhost:8080/"
        },
        "id": "SVIhZfk-XLsE",
        "outputId": "a6d1faa2-dcea-4f82-9244-8693531793ab"
      },
      "outputs": [
        {
          "name": "stdout",
          "output_type": "stream",
          "text": [
            "{'A': 0, 'B': 0}\n",
            "Vacuum is randomly placed at Location A.\n",
            "Location xA is Clean.\n",
            "Moving to Location B...\n",
            "Location B is Clean.\n",
            "Environment is Clean.\n",
            "{'A': 0, 'B': 0}\n",
            "Performance Measurement: 0\n"
          ]
        }
      ],
      "source": [
        "import random\n",
        "\n",
        "class Environment(object):\n",
        "    def __init__(self):\n",
        "        self.locationCondition = {'A': '0', 'B': '0'}\n",
        "        self.locationCondition['A'] = random.randint(0, 1)\n",
        "        self.locationCondition['B'] = random.randint(0, 1)\n",
        "\n",
        "\n",
        "class SimpleReflexVacuumAgent(Environment):\n",
        "    def __init__(self, Environment):\n",
        "        print (Environment.locationCondition)\n",
        "        Score = 0\n",
        "        vacuumLocation = random.randint(0, 1)\n",
        "        if vacuumLocation == 0:\n",
        "            print (\"Vacuum is randomly placed at Location A.\")\n",
        "            print (\"Location A is Dirty.\") if Environment.locationCondition['A'] == 1 else print(\"Location xA is Clean.\")\n",
        "            if Environment.locationCondition['A'] == 1:\n",
        "                Environment.locationCondition['A'] = 0\n",
        "                Score += 1\n",
        "                print (\"Location A has been Cleaned.\")\n",
        "            print (\"Moving to Location B...\")\n",
        "            print (\"Location B is Dirty.\") if Environment.locationCondition['B'] == 1 else print(\"Location B is Clean.\")\n",
        "            if Environment.locationCondition['B'] == 1:\n",
        "                Environment.locationCondition['B'] = 0;\n",
        "                Score += 1\n",
        "                print (\"Location B has been Cleaned.\")\n",
        "            print(\"Environment is Clean.\")\n",
        "\n",
        "        elif vacuumLocation == 1:\n",
        "            print (\"Vacuum randomly placed at Location B.\")\n",
        "            print (\"Location B is Dirty.\") if Environment.locationCondition['B'] == 1 else print(\"Location B is Clean.\")\n",
        "            if Environment.locationCondition['B'] == 1:\n",
        "                Environment.locationCondition['B'] = 0\n",
        "                Score += 1\n",
        "                print (\"Location B has been Cleaned.\")\n",
        "            print (\"Moving to Location A...\")\n",
        "            print (\"Location A is Dirty.\") if Environment.locationCondition['A'] == 1 else print(\"Location A is Clean.\")\n",
        "            if Environment.locationCondition['A'] == 1:\n",
        "                Environment.locationCondition['A'] = 0\n",
        "                Score += 1\n",
        "                print (\"Location A has been Cleaned.\")\n",
        "            print(\"Environment is Clean.\")\n",
        "\n",
        "        print (Environment.locationCondition)\n",
        "        print (\"Performance Measurement: \" + str(Score))\n",
        "\n",
        "\n",
        "theEnvironment = Environment()\n",
        "theVacuum = SimpleReflexVacuumAgent(theEnvironment)"
      ]
    },
    {
      "cell_type": "markdown",
      "metadata": {
        "id": "Ec7lN4NeYU7W"
      },
      "source": [
        "What changes you would bring about in the above code if you want the agent to consider 4 locations A,B,C,D instead of 2? Rewrite and execute the code.\n"
      ]
    },
    {
      "cell_type": "code",
      "execution_count": 8,
      "metadata": {
        "colab": {
          "base_uri": "https://localhost:8080/"
        },
        "id": "22hk61UYotBq",
        "outputId": "d901f0c6-7852-44cb-b22e-6d09833f4b10"
      },
      "outputs": [
        {
          "name": "stdout",
          "output_type": "stream",
          "text": [
            "[1, 0, 0, 1]\n",
            "Vacuum is randomly placed at Location B.\n",
            "Location B is Dirty.\n",
            "Location B has been Cleaned.\n",
            "Location A is Dirty.\n",
            "Location A has been Cleaned.\n",
            "Location C is Clean.\n",
            "Location D is Clean.\n",
            "Environment is clean.\n",
            "[0, 0, 0, 0]\n",
            "Performance Measurement: 2.\n"
          ]
        }
      ],
      "source": [
        "import random\n",
        "\n",
        "\n",
        "class Environment(object):\n",
        "  def __init__(self):\n",
        "    self.locationCondition = [random.randint(0,1) for i in range(4)] # [1, 0, 1, 1]\n",
        "    self.locationNames = ['A', 'B', 'C', 'D']\n",
        "\n",
        "class SimpleReflexVacuumAgent(Environment):\n",
        "  def __init__(self, Environment):\n",
        "    print(Environment.locationCondition) \n",
        "    score = 0\n",
        "    spawn = random.randint(0, 3) \n",
        "    print(f'Vacuum is randomly placed at Location {Environment.locationNames[spawn]}.')\n",
        "    for i in range(4):\n",
        "      if Environment.locationCondition[(spawn + i) % 4] == 1:\n",
        "        print(f\"Location {Environment.locationNames[(spawn + i) % 4]} is Dirty.\")\n",
        "        # clean room\n",
        "        Environment.locationCondition[(spawn + i) % 4] = 0\n",
        "        score+=1\n",
        "        print(f\"Location {Environment.locationNames[(spawn + i) % 4]} has been Cleaned.\")\n",
        "      else:\n",
        "        print(f\"Location {Environment.locationNames[(spawn + i) % 4]} is Clean.\")\n",
        "\n",
        "    print(\"Environment is clean.\")\n",
        "    print(Environment.locationCondition)\n",
        "    print(f\"Performance Measurement: {score}.\")\n",
        "\n",
        "\n",
        "theEnvironment = Environment()\n",
        "theVacuum = SimpleReflexVacuumAgent(theEnvironment)"
      ]
    }
  ],
  "metadata": {
    "colab": {
      "provenance": []
    },
    "kernelspec": {
      "display_name": "Python 3",
      "name": "python3"
    },
    "language_info": {
      "codemirror_mode": {
        "name": "ipython",
        "version": 3
      },
      "file_extension": ".py",
      "mimetype": "text/x-python",
      "name": "python",
      "nbconvert_exporter": "python",
      "pygments_lexer": "ipython3",
      "version": "3.11.2"
    }
  },
  "nbformat": 4,
  "nbformat_minor": 0
}
