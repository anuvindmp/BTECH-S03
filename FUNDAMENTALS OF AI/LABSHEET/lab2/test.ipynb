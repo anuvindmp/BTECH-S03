{
 "cells": [
  {
   "cell_type": "code",
   "execution_count": 20,
   "metadata": {},
   "outputs": [],
   "source": [
    "from anytree import Node, RenderTree"
   ]
  },
  {
   "cell_type": "code",
   "execution_count": 21,
   "metadata": {},
   "outputs": [],
   "source": [
    "nodes = {'A': None, 'B': None, 'S': None, 'C': None, 'G': None, 'F': None, 'D': None, 'E': None, 'H': None}\n",
    "edges = [('A', 'B'), ('A', 'S'), ('S', 'C'), ('S', 'G'), ('C', 'F'), ('C', 'D'), ('C', 'E'), ('G', 'F'), ('G', 'H'), ('H', 'E')]"
   ]
  },
  {
   "cell_type": "code",
   "execution_count": 22,
   "metadata": {},
   "outputs": [
    {
     "name": "stdout",
     "output_type": "stream",
     "text": [
      "Node('/initial')\n"
     ]
    }
   ],
   "source": [
    "# Construct an empty tree\n",
    "root = Node(\"initial\")\n",
    "\n",
    "# Build the state space tree using BFS\n",
    "queue = [root]\n",
    "while queue:\n",
    "    current_node = queue.pop(0)\n",
    "    for child_name, parent_name in edges:\n",
    "        if child_name not in nodes:\n",
    "            # Create new node and add it to tree\n",
    "            new_node = Node(child_name, parent=current_node)\n",
    "            nodes[child_name] = new_node\n",
    "            if child_name == \"H\":\n",
    "                # Goal found! Stop searching\n",
    "                print(\"Goal reached using BFS!\")\n",
    "                break\n",
    "            queue.append(new_node)\n",
    "\n",
    "# Print the state space tree\n",
    "print(RenderTree(root))\n"
   ]
  },
  {
   "cell_type": "code",
   "execution_count": 23,
   "metadata": {},
   "outputs": [
    {
     "name": "stdout",
     "output_type": "stream",
     "text": [
      "Node('/initial')\n"
     ]
    }
   ],
   "source": [
    "# Construct an empty tree\n",
    "root = Node(\"initial\")\n",
    "\n",
    "def dfs(node):\n",
    "    # Explore child nodes until goal found\n",
    "    for child_name, parent_name in edges:\n",
    "        if child_name not in nodes:\n",
    "            new_node = Node(child_name, parent=node)\n",
    "            nodes[child_name] = new_node\n",
    "            if child_name == \"H\":\n",
    "                # Goal found! Stop searching\n",
    "                print(\"Goal reached using DFS!\")\n",
    "                return True\n",
    "            if dfs(new_node):\n",
    "                return True\n",
    "    return False\n",
    "\n",
    "# Start DFS from root node\n",
    "dfs(root)\n",
    "\n",
    "# Print the state space tree\n",
    "print(RenderTree(root))\n"
   ]
  },
  {
   "cell_type": "code",
   "execution_count": 24,
   "metadata": {},
   "outputs": [
    {
     "name": "stdout",
     "output_type": "stream",
     "text": [
      "Node('/initial')\n"
     ]
    }
   ],
   "source": [
    "# Define the maximum depth limit\n",
    "depth_limit = 4\n",
    "\n",
    "# Construct an empty tree\n",
    "root = Node(\"initial\")\n",
    "\n",
    "def dls(node, depth):\n",
    "    # Explore child nodes up to the depth limit\n",
    "    if depth > depth_limit:\n",
    "        return\n",
    "    for child_name, parent_name in edges:\n",
    "        if child_name not in nodes:\n",
    "            new_node = Node(child_name, parent=node)\n",
    "            nodes[child_name] = new_node\n",
    "            if child_name == \"H\":\n",
    "                # Goal found! Stop searching\n",
    "                print(\"Goal reached using DLS!\")\n",
    "                return True\n",
    "            if dls(new_node, depth + 1):\n",
    "                return True\n",
    "\n",
    "# Start DLS from root node with depth limit\n",
    "dls(root, 0)  # Start at depth 0\n",
    "\n",
    "# Print the state space tree\n",
    "print(RenderTree(root))\n"
   ]
  },
  {
   "cell_type": "code",
   "execution_count": 25,
   "metadata": {},
   "outputs": [
    {
     "name": "stdout",
     "output_type": "stream",
     "text": [
      "Node('/initial')\n"
     ]
    }
   ],
   "source": [
    "# Construct an empty tree\n",
    "root = Node(\"initial\")\n",
    "\n",
    "# Build the state space tree using BFS\n",
    "queue = [root]\n",
    "while queue:\n",
    "    current_node = queue.pop(0)\n",
    "    for child_name, parent_name in edges:\n",
    "        if child_name not in nodes:\n",
    "            # Create new node and add it to tree\n",
    "            new_node = Node(child_name, parent=current_node)\n",
    "            nodes[child_name] = new_node\n",
    "            if child_name == \"H\":\n",
    "                # Goal found! Stop searching\n",
    "                print(\"Goal reached using BFS!\")\n",
    "                break\n",
    "            queue.append(new_node)\n",
    "\n",
    "# Print the state space tree\n",
    "print(RenderTree(root))"
   ]
  }
 ],
 "metadata": {
  "kernelspec": {
   "display_name": "Python 3",
   "language": "python",
   "name": "python3"
  },
  "language_info": {
   "codemirror_mode": {
    "name": "ipython",
    "version": 3
   },
   "file_extension": ".py",
   "mimetype": "text/x-python",
   "name": "python",
   "nbconvert_exporter": "python",
   "pygments_lexer": "ipython3",
   "version": "3.11.2"
  }
 },
 "nbformat": 4,
 "nbformat_minor": 2
}
