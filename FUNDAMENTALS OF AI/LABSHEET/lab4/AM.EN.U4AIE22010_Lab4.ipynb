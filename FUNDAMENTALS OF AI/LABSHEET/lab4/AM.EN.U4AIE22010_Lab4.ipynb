{
  "cells": [
    {
      "cell_type": "markdown",
      "metadata": {},
      "source": [
        " **FUNDAMENTALS OF AI** <br/><br/>\n",
        "Name : Anuvind M P <br/>\n",
        "Roll no: AM.EN.U4AIE22010"
      ]
    },
    {
      "cell_type": "code",
      "execution_count": 3,
      "metadata": {
        "colab": {
          "base_uri": "https://localhost:8080/"
        },
        "id": "SuCRGDJ9xj1R",
        "outputId": "a046eca9-c37c-4630-85d3-f13de9b4b34e"
      },
      "outputs": [
        {
          "name": "stdout",
          "output_type": "stream",
          "text": [
            "Actions\n",
            "J1 J2\n",
            "0 0\n",
            "4 0\n",
            "4 3\n",
            "0 3\n",
            "3 0\n",
            "3 3\n",
            "4 2\n",
            "0 2\n",
            "2 0\n",
            "2 3\n",
            "4 1\n",
            "0 1\n",
            "1 0\n"
          ]
        },
        {
          "data": {
            "text/plain": [
              "True"
            ]
          },
          "execution_count": 3,
          "metadata": {},
          "output_type": "execute_result"
        }
      ],
      "source": [
        "from collections import defaultdict\n",
        "\n",
        "def initialize():\n",
        "    return defaultdict(lambda: False)\n",
        "\n",
        "def waterJugProblem(jug1, jug2, aim, visited, amt1=0, amt2=0):\n",
        "    if (amt1, amt2) == (aim, 0):\n",
        "        print(amt1, amt2)\n",
        "        return True\n",
        "    if visited[(amt1, amt2)]:\n",
        "        return False\n",
        "    visited[(amt1, amt2)] = True\n",
        "    print(amt1, amt2)\n",
        "    if amt1 < jug1:\n",
        "        if waterJugProblem(jug1, jug2, aim, visited, jug1, amt2):\n",
        "            return True\n",
        "    if amt2 < jug2:\n",
        "        if waterJugProblem(jug1, jug2, aim, visited, amt1, jug2):\n",
        "            return True\n",
        "    if amt1 > 0:\n",
        "        if waterJugProblem(jug1, jug2, aim, visited, 0, amt2):\n",
        "            return True\n",
        "    if amt2 > 0:\n",
        "        if waterJugProblem(jug1, jug2, aim, visited, amt1, 0):\n",
        "            return True\n",
        "    if amt1 > 0 and amt2 < jug2:\n",
        "        pour_amt = min(amt1, jug2 - amt2)\n",
        "        if waterJugProblem(jug1, jug2, aim, visited, amt1 - pour_amt, amt2 + pour_amt):\n",
        "            return True\n",
        "    if amt2 > 0 and amt1 < jug1:\n",
        "        pour_amt = min(amt2, jug1 - amt1)\n",
        "        if waterJugProblem(jug1, jug2, aim, visited, amt1 + pour_amt, amt2 - pour_amt):\n",
        "            return True\n",
        "    return False\n",
        "\n",
        "\n",
        "jug1, jug2, aim = 4, 3, 1\n",
        "visited = initialize()\n",
        "print(\"Actions\")\n",
        "print(\"J1 J2\")\n",
        "waterJugProblem(jug1, jug2, aim, visited)"
      ]
    },
    {
      "cell_type": "code",
      "execution_count": 4,
      "metadata": {
        "colab": {
          "base_uri": "https://localhost:8080/"
        },
        "id": "a5mD_3hCzUZx",
        "outputId": "e9c787e1-b5f3-4b9e-e82e-0dc4fd205e90"
      },
      "outputs": [
        {
          "name": "stdout",
          "output_type": "stream",
          "text": [
            "Actions\n",
            "J1 J2\n",
            "0 0\n",
            "4 0\n",
            "4 3\n",
            "0 3\n",
            "3 0\n",
            "3 3\n",
            "4 2\n",
            "0 2\n",
            "2 0\n"
          ]
        },
        {
          "data": {
            "text/plain": [
              "True"
            ]
          },
          "execution_count": 4,
          "metadata": {},
          "output_type": "execute_result"
        }
      ],
      "source": [
        "jug1, jug2, aim = 4, 3, 2\n",
        "visited = initialize()\n",
        "print(\"Actions\")\n",
        "print(\"J1 J2\")\n",
        "waterJugProblem(jug1, jug2, aim, visited)"
      ]
    }
  ],
  "metadata": {
    "colab": {
      "provenance": []
    },
    "kernelspec": {
      "display_name": "Python 3",
      "name": "python3"
    },
    "language_info": {
      "codemirror_mode": {
        "name": "ipython",
        "version": 3
      },
      "file_extension": ".py",
      "mimetype": "text/x-python",
      "name": "python",
      "nbconvert_exporter": "python",
      "pygments_lexer": "ipython3",
      "version": "3.11.2"
    }
  },
  "nbformat": 4,
  "nbformat_minor": 0
}
